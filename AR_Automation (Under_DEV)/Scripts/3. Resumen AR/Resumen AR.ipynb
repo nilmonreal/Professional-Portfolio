{
 "cells": [
  {
   "cell_type": "code",
   "execution_count": 1,
   "metadata": {},
   "outputs": [],
   "source": [
    "import xlwings as xw\n",
    "import pandas as pd\n",
    "import datetime"
   ]
  },
  {
   "cell_type": "code",
   "execution_count": 2,
   "metadata": {},
   "outputs": [],
   "source": [
    "resume_path = r\"C:\\Users\\nil.monreal\\Desktop\\3.- RESUMEN AR OCTOBER 2024.xlsx\"\n",
    "\n",
    "current_date = datetime.datetime.now()\n",
    "\n",
    "def get_previous_month(date):\n",
    "    first_day_of_current_month = datetime.date(date.year, date.month, 1)\n",
    "    last_day_of_previous_month = first_day_of_current_month - datetime.timedelta(days=1)\n",
    "    return last_day_of_previous_month.strftime('%B')\n",
    "\n",
    "month = current_date.strftime('%B') \n",
    "\n",
    "previous_month = get_previous_month(current_date)\n"
   ]
  },
  {
   "cell_type": "code",
   "execution_count": 3,
   "metadata": {},
   "outputs": [
    {
     "ename": "FileNotFoundError",
     "evalue": "No such file: 'C:\\Users\\nil.monreal\\Desktop\\3.- RESUMEN AR OCTOBER 2024.xlsx'",
     "output_type": "error",
     "traceback": [
      "\u001b[1;31m---------------------------------------------------------------------------\u001b[0m",
      "\u001b[1;31mFileNotFoundError\u001b[0m                         Traceback (most recent call last)",
      "Cell \u001b[1;32mIn[3], line 1\u001b[0m\n\u001b[1;32m----> 1\u001b[0m resume_wb \u001b[38;5;241m=\u001b[39m \u001b[43mxw\u001b[49m\u001b[38;5;241;43m.\u001b[39;49m\u001b[43mBook\u001b[49m\u001b[43m(\u001b[49m\u001b[43mresume_path\u001b[49m\u001b[43m,\u001b[49m\u001b[43m \u001b[49m\u001b[43mupdate_links\u001b[49m\u001b[38;5;241;43m=\u001b[39;49m\u001b[38;5;28;43;01mFalse\u001b[39;49;00m\u001b[43m)\u001b[49m  \u001b[38;5;66;03m# Open the Resume workbook\u001b[39;00m\n\u001b[0;32m      2\u001b[0m sell_sheet \u001b[38;5;241m=\u001b[39m resume_wb\u001b[38;5;241m.\u001b[39msheets[\u001b[38;5;124m'\u001b[39m\u001b[38;5;124mVENTAS-PAGOS X CLIENTE \u001b[39m\u001b[38;5;124m'\u001b[39m]\n",
      "File \u001b[1;32mc:\\Users\\nil.monreal\\AppData\\Local\\Programs\\Python\\Python312\\Lib\\site-packages\\xlwings\\main.py:933\u001b[0m, in \u001b[0;36mBook.__init__\u001b[1;34m(self, fullname, update_links, read_only, format, password, write_res_password, ignore_read_only_recommended, origin, delimiter, editable, notify, converter, add_to_mru, local, corrupt_load, impl, json, mode, engine, **kwargs)\u001b[0m\n\u001b[0;32m    931\u001b[0m     \u001b[38;5;28;01mif\u001b[39;00m \u001b[38;5;129;01mnot\u001b[39;00m app:\n\u001b[0;32m    932\u001b[0m         app \u001b[38;5;241m=\u001b[39m App(add_book\u001b[38;5;241m=\u001b[39m\u001b[38;5;28;01mFalse\u001b[39;00m)\n\u001b[1;32m--> 933\u001b[0m     impl \u001b[38;5;241m=\u001b[39m \u001b[43mapp\u001b[49m\u001b[38;5;241;43m.\u001b[39;49m\u001b[43mbooks\u001b[49m\u001b[38;5;241;43m.\u001b[39;49m\u001b[43mopen\u001b[49m\u001b[43m(\u001b[49m\n\u001b[0;32m    934\u001b[0m \u001b[43m        \u001b[49m\u001b[43mfullname\u001b[49m\u001b[43m,\u001b[49m\n\u001b[0;32m    935\u001b[0m \u001b[43m        \u001b[49m\u001b[43mupdate_links\u001b[49m\u001b[43m,\u001b[49m\n\u001b[0;32m    936\u001b[0m \u001b[43m        \u001b[49m\u001b[43mread_only\u001b[49m\u001b[43m,\u001b[49m\n\u001b[0;32m    937\u001b[0m \u001b[43m        \u001b[49m\u001b[38;5;28;43mformat\u001b[39;49m\u001b[43m,\u001b[49m\n\u001b[0;32m    938\u001b[0m \u001b[43m        \u001b[49m\u001b[43mpassword\u001b[49m\u001b[43m,\u001b[49m\n\u001b[0;32m    939\u001b[0m \u001b[43m        \u001b[49m\u001b[43mwrite_res_password\u001b[49m\u001b[43m,\u001b[49m\n\u001b[0;32m    940\u001b[0m \u001b[43m        \u001b[49m\u001b[43mignore_read_only_recommended\u001b[49m\u001b[43m,\u001b[49m\n\u001b[0;32m    941\u001b[0m \u001b[43m        \u001b[49m\u001b[43morigin\u001b[49m\u001b[43m,\u001b[49m\n\u001b[0;32m    942\u001b[0m \u001b[43m        \u001b[49m\u001b[43mdelimiter\u001b[49m\u001b[43m,\u001b[49m\n\u001b[0;32m    943\u001b[0m \u001b[43m        \u001b[49m\u001b[43meditable\u001b[49m\u001b[43m,\u001b[49m\n\u001b[0;32m    944\u001b[0m \u001b[43m        \u001b[49m\u001b[43mnotify\u001b[49m\u001b[43m,\u001b[49m\n\u001b[0;32m    945\u001b[0m \u001b[43m        \u001b[49m\u001b[43mconverter\u001b[49m\u001b[43m,\u001b[49m\n\u001b[0;32m    946\u001b[0m \u001b[43m        \u001b[49m\u001b[43madd_to_mru\u001b[49m\u001b[43m,\u001b[49m\n\u001b[0;32m    947\u001b[0m \u001b[43m        \u001b[49m\u001b[43mlocal\u001b[49m\u001b[43m,\u001b[49m\n\u001b[0;32m    948\u001b[0m \u001b[43m        \u001b[49m\u001b[43mcorrupt_load\u001b[49m\u001b[43m,\u001b[49m\n\u001b[0;32m    949\u001b[0m \u001b[43m    \u001b[49m\u001b[43m)\u001b[49m\u001b[38;5;241m.\u001b[39mimpl\n\u001b[0;32m    950\u001b[0m \u001b[38;5;28;01melif\u001b[39;00m \u001b[38;5;28mlen\u001b[39m(candidates) \u001b[38;5;241m>\u001b[39m \u001b[38;5;241m1\u001b[39m:\n\u001b[0;32m    951\u001b[0m     \u001b[38;5;28;01mraise\u001b[39;00m \u001b[38;5;167;01mException\u001b[39;00m(\n\u001b[0;32m    952\u001b[0m         \u001b[38;5;124m\"\u001b[39m\u001b[38;5;124mWorkbook \u001b[39m\u001b[38;5;124m'\u001b[39m\u001b[38;5;132;01m%s\u001b[39;00m\u001b[38;5;124m'\u001b[39m\u001b[38;5;124m is open in more than one Excel instance.\u001b[39m\u001b[38;5;124m\"\u001b[39m\n\u001b[0;32m    953\u001b[0m         \u001b[38;5;241m%\u001b[39m fullname\n\u001b[0;32m    954\u001b[0m     )\n",
      "File \u001b[1;32mc:\\Users\\nil.monreal\\AppData\\Local\\Programs\\Python\\Python312\\Lib\\site-packages\\xlwings\\main.py:5157\u001b[0m, in \u001b[0;36mBooks.open\u001b[1;34m(self, fullname, update_links, read_only, format, password, write_res_password, ignore_read_only_recommended, origin, delimiter, editable, notify, converter, add_to_mru, local, corrupt_load, json)\u001b[0m\n\u001b[0;32m   5155\u001b[0m fullname \u001b[38;5;241m=\u001b[39m utils\u001b[38;5;241m.\u001b[39mfspath(fullname)\n\u001b[0;32m   5156\u001b[0m \u001b[38;5;28;01mif\u001b[39;00m \u001b[38;5;129;01mnot\u001b[39;00m os\u001b[38;5;241m.\u001b[39mpath\u001b[38;5;241m.\u001b[39mexists(fullname):\n\u001b[1;32m-> 5157\u001b[0m     \u001b[38;5;28;01mraise\u001b[39;00m \u001b[38;5;167;01mFileNotFoundError\u001b[39;00m(\u001b[38;5;124m\"\u001b[39m\u001b[38;5;124mNo such file: \u001b[39m\u001b[38;5;124m'\u001b[39m\u001b[38;5;132;01m%s\u001b[39;00m\u001b[38;5;124m'\u001b[39m\u001b[38;5;124m\"\u001b[39m \u001b[38;5;241m%\u001b[39m fullname)\n\u001b[0;32m   5158\u001b[0m fullname \u001b[38;5;241m=\u001b[39m os\u001b[38;5;241m.\u001b[39mpath\u001b[38;5;241m.\u001b[39mrealpath(fullname)\n\u001b[0;32m   5159\u001b[0m _, name \u001b[38;5;241m=\u001b[39m os\u001b[38;5;241m.\u001b[39mpath\u001b[38;5;241m.\u001b[39msplit(fullname)\n",
      "\u001b[1;31mFileNotFoundError\u001b[0m: No such file: 'C:\\Users\\nil.monreal\\Desktop\\3.- RESUMEN AR OCTOBER 2024.xlsx'"
     ]
    }
   ],
   "source": [
    "resume_wb = xw.Book(resume_path, update_links=False)  # Open the Resume workbook\n",
    "sell_sheet = resume_wb.sheets['VENTAS-PAGOS X CLIENTE ']"
   ]
  },
  {
   "cell_type": "code",
   "execution_count": 46,
   "metadata": {},
   "outputs": [],
   "source": [
    "# input(\"Please dowload the trial balance and imput it on the spreadsheet and click enter...\")"
   ]
  },
  {
   "cell_type": "code",
   "execution_count": 48,
   "metadata": {},
   "outputs": [],
   "source": [
    "last_col = sell_sheet.range('9:9').end('right').column\n",
    "\n",
    "last_row = sell_sheet.range(1, 1).end('down').row"
   ]
  },
  {
   "cell_type": "code",
   "execution_count": 49,
   "metadata": {},
   "outputs": [
    {
     "data": {
      "text/plain": [
       "True"
      ]
     },
     "execution_count": 49,
     "metadata": {},
     "output_type": "execute_result"
    }
   ],
   "source": [
    "sell_sheet.api.Columns(last_col + 1).Insert()\n",
    "sell_sheet.api.Columns(last_col + 2).Insert()"
   ]
  },
  {
   "cell_type": "code",
   "execution_count": 50,
   "metadata": {},
   "outputs": [],
   "source": [
    "for row in range(1, 101):\n",
    "    formula = sell_sheet.range(row, last_col - 1).formula  # Read the formula as a string\n",
    "    sell_sheet.range(row, last_col + 1).value = f\"{formula}\"  # Paste as a string by adding a leading single quote\n",
    "\n",
    "# Copy the last populated column (rows 1 to 100) as strings into the second new column\n",
    "for row in range(1, 101):\n",
    "    formula = sell_sheet.range(row, last_col).formula  # Read the formula as a string\n",
    "    sell_sheet.range(row, last_col + 2).value = f\"{formula}\""
   ]
  },
  {
   "cell_type": "code",
   "execution_count": 23,
   "metadata": {},
   "outputs": [],
   "source": [
    "# Get the values from the second-to-last column (last_col - 1)\n",
    "second_last_column_values = sell_sheet.range((1, last_col - 1), (100, last_col - 1)).value\n",
    "\n",
    "# Get the values from the last column (last_col)\n",
    "last_column_values = sell_sheet.range((1, last_col), (100, last_col)).value\n",
    "\n",
    "sell_sheet.range((1, last_col - 1), (100, last_col - 1)).value = second_last_column_values\n",
    "sell_sheet.range((1, last_col), (100, last_col)).value = last_column_values"
   ]
  },
  {
   "cell_type": "code",
   "execution_count": 51,
   "metadata": {},
   "outputs": [],
   "source": [
    "sell_sheet.range(8, last_col+1).value = f'Ventas {month}'.upper()\n",
    "sell_sheet.range(8, last_col+2).value = f'Pagos {month}'.upper()"
   ]
  },
  {
   "cell_type": "code",
   "execution_count": 25,
   "metadata": {},
   "outputs": [
    {
     "ename": "KeyError",
     "evalue": "\"None of [Index(['VENTAS OCTOBER', 'PAGOS OCTOBER'], dtype='object')] are in the [columns]\"",
     "output_type": "error",
     "traceback": [
      "\u001b[1;31m---------------------------------------------------------------------------\u001b[0m",
      "\u001b[1;31mKeyError\u001b[0m                                  Traceback (most recent call last)",
      "Cell \u001b[1;32mIn[25], line 7\u001b[0m\n\u001b[0;32m      3\u001b[0m data\n\u001b[0;32m      5\u001b[0m df \u001b[38;5;241m=\u001b[39m pd\u001b[38;5;241m.\u001b[39mDataFrame(data)\n\u001b[1;32m----> 7\u001b[0m df \u001b[38;5;241m=\u001b[39m \u001b[43mdf\u001b[49m\u001b[43m[\u001b[49m\u001b[43m[\u001b[49m\u001b[38;5;124;43mf\u001b[39;49m\u001b[38;5;124;43m'\u001b[39;49m\u001b[38;5;124;43mVENTAS \u001b[39;49m\u001b[38;5;132;43;01m{\u001b[39;49;00m\u001b[43mprevious_month\u001b[49m\u001b[38;5;241;43m.\u001b[39;49m\u001b[43mupper\u001b[49m\u001b[43m(\u001b[49m\u001b[43m)\u001b[49m\u001b[38;5;132;43;01m}\u001b[39;49;00m\u001b[38;5;124;43m'\u001b[39;49m\u001b[43m,\u001b[49m\u001b[43m \u001b[49m\u001b[38;5;124;43mf\u001b[39;49m\u001b[38;5;124;43m'\u001b[39;49m\u001b[38;5;124;43mPAGOS \u001b[39;49m\u001b[38;5;132;43;01m{\u001b[39;49;00m\u001b[43mprevious_month\u001b[49m\u001b[38;5;241;43m.\u001b[39;49m\u001b[43mupper\u001b[49m\u001b[43m(\u001b[49m\u001b[43m)\u001b[49m\u001b[38;5;132;43;01m}\u001b[39;49;00m\u001b[38;5;124;43m'\u001b[39;49m\u001b[43m]\u001b[49m\u001b[43m]\u001b[49m\n\u001b[0;32m      9\u001b[0m df\n",
      "File \u001b[1;32mc:\\Users\\nil.monreal\\AppData\\Local\\Programs\\Python\\Python312\\Lib\\site-packages\\pandas\\core\\frame.py:4108\u001b[0m, in \u001b[0;36mDataFrame.__getitem__\u001b[1;34m(self, key)\u001b[0m\n\u001b[0;32m   4106\u001b[0m     \u001b[38;5;28;01mif\u001b[39;00m is_iterator(key):\n\u001b[0;32m   4107\u001b[0m         key \u001b[38;5;241m=\u001b[39m \u001b[38;5;28mlist\u001b[39m(key)\n\u001b[1;32m-> 4108\u001b[0m     indexer \u001b[38;5;241m=\u001b[39m \u001b[38;5;28;43mself\u001b[39;49m\u001b[38;5;241;43m.\u001b[39;49m\u001b[43mcolumns\u001b[49m\u001b[38;5;241;43m.\u001b[39;49m\u001b[43m_get_indexer_strict\u001b[49m\u001b[43m(\u001b[49m\u001b[43mkey\u001b[49m\u001b[43m,\u001b[49m\u001b[43m \u001b[49m\u001b[38;5;124;43m\"\u001b[39;49m\u001b[38;5;124;43mcolumns\u001b[39;49m\u001b[38;5;124;43m\"\u001b[39;49m\u001b[43m)\u001b[49m[\u001b[38;5;241m1\u001b[39m]\n\u001b[0;32m   4110\u001b[0m \u001b[38;5;66;03m# take() does not accept boolean indexers\u001b[39;00m\n\u001b[0;32m   4111\u001b[0m \u001b[38;5;28;01mif\u001b[39;00m \u001b[38;5;28mgetattr\u001b[39m(indexer, \u001b[38;5;124m\"\u001b[39m\u001b[38;5;124mdtype\u001b[39m\u001b[38;5;124m\"\u001b[39m, \u001b[38;5;28;01mNone\u001b[39;00m) \u001b[38;5;241m==\u001b[39m \u001b[38;5;28mbool\u001b[39m:\n",
      "File \u001b[1;32mc:\\Users\\nil.monreal\\AppData\\Local\\Programs\\Python\\Python312\\Lib\\site-packages\\pandas\\core\\indexes\\base.py:6200\u001b[0m, in \u001b[0;36mIndex._get_indexer_strict\u001b[1;34m(self, key, axis_name)\u001b[0m\n\u001b[0;32m   6197\u001b[0m \u001b[38;5;28;01melse\u001b[39;00m:\n\u001b[0;32m   6198\u001b[0m     keyarr, indexer, new_indexer \u001b[38;5;241m=\u001b[39m \u001b[38;5;28mself\u001b[39m\u001b[38;5;241m.\u001b[39m_reindex_non_unique(keyarr)\n\u001b[1;32m-> 6200\u001b[0m \u001b[38;5;28;43mself\u001b[39;49m\u001b[38;5;241;43m.\u001b[39;49m\u001b[43m_raise_if_missing\u001b[49m\u001b[43m(\u001b[49m\u001b[43mkeyarr\u001b[49m\u001b[43m,\u001b[49m\u001b[43m \u001b[49m\u001b[43mindexer\u001b[49m\u001b[43m,\u001b[49m\u001b[43m \u001b[49m\u001b[43maxis_name\u001b[49m\u001b[43m)\u001b[49m\n\u001b[0;32m   6202\u001b[0m keyarr \u001b[38;5;241m=\u001b[39m \u001b[38;5;28mself\u001b[39m\u001b[38;5;241m.\u001b[39mtake(indexer)\n\u001b[0;32m   6203\u001b[0m \u001b[38;5;28;01mif\u001b[39;00m \u001b[38;5;28misinstance\u001b[39m(key, Index):\n\u001b[0;32m   6204\u001b[0m     \u001b[38;5;66;03m# GH 42790 - Preserve name from an Index\u001b[39;00m\n",
      "File \u001b[1;32mc:\\Users\\nil.monreal\\AppData\\Local\\Programs\\Python\\Python312\\Lib\\site-packages\\pandas\\core\\indexes\\base.py:6249\u001b[0m, in \u001b[0;36mIndex._raise_if_missing\u001b[1;34m(self, key, indexer, axis_name)\u001b[0m\n\u001b[0;32m   6247\u001b[0m \u001b[38;5;28;01mif\u001b[39;00m nmissing:\n\u001b[0;32m   6248\u001b[0m     \u001b[38;5;28;01mif\u001b[39;00m nmissing \u001b[38;5;241m==\u001b[39m \u001b[38;5;28mlen\u001b[39m(indexer):\n\u001b[1;32m-> 6249\u001b[0m         \u001b[38;5;28;01mraise\u001b[39;00m \u001b[38;5;167;01mKeyError\u001b[39;00m(\u001b[38;5;124mf\u001b[39m\u001b[38;5;124m\"\u001b[39m\u001b[38;5;124mNone of [\u001b[39m\u001b[38;5;132;01m{\u001b[39;00mkey\u001b[38;5;132;01m}\u001b[39;00m\u001b[38;5;124m] are in the [\u001b[39m\u001b[38;5;132;01m{\u001b[39;00maxis_name\u001b[38;5;132;01m}\u001b[39;00m\u001b[38;5;124m]\u001b[39m\u001b[38;5;124m\"\u001b[39m)\n\u001b[0;32m   6251\u001b[0m     not_found \u001b[38;5;241m=\u001b[39m \u001b[38;5;28mlist\u001b[39m(ensure_index(key)[missing_mask\u001b[38;5;241m.\u001b[39mnonzero()[\u001b[38;5;241m0\u001b[39m]]\u001b[38;5;241m.\u001b[39munique())\n\u001b[0;32m   6252\u001b[0m     \u001b[38;5;28;01mraise\u001b[39;00m \u001b[38;5;167;01mKeyError\u001b[39;00m(\u001b[38;5;124mf\u001b[39m\u001b[38;5;124m\"\u001b[39m\u001b[38;5;132;01m{\u001b[39;00mnot_found\u001b[38;5;132;01m}\u001b[39;00m\u001b[38;5;124m not in index\u001b[39m\u001b[38;5;124m\"\u001b[39m)\n",
      "\u001b[1;31mKeyError\u001b[0m: \"None of [Index(['VENTAS OCTOBER', 'PAGOS OCTOBER'], dtype='object')] are in the [columns]\""
     ]
    }
   ],
   "source": [
    "data = sell_sheet.range(\"A8\",\"AO79\").options(pd.DataFrame, header=1, index=False).value\n",
    "\n",
    "data\n",
    "\n",
    "df = pd.DataFrame(data)\n",
    "\n",
    "df = df[[f'VENTAS {previous_month.upper()}', f'PAGOS {previous_month.upper()}']]\n",
    "\n",
    "df"
   ]
  },
  {
   "cell_type": "code",
   "execution_count": 26,
   "metadata": {},
   "outputs": [],
   "source": [
    "sell_sheet.range(9, last_col - 1).value = df.values "
   ]
  },
  {
   "cell_type": "code",
   "execution_count": 27,
   "metadata": {},
   "outputs": [
    {
     "data": {
      "text/plain": [
       "True"
      ]
     },
     "execution_count": 27,
     "metadata": {},
     "output_type": "execute_result"
    }
   ],
   "source": [
    "sell_sheet.range((1, last_col -1), (100, last_col)).api.Copy()\n",
    "sell_sheet.range((1, last_col + 1), (100, last_col + 1)).api.PasteSpecial(Paste=-4122)"
   ]
  },
  {
   "cell_type": "code",
   "execution_count": 28,
   "metadata": {},
   "outputs": [
    {
     "data": {
      "text/plain": [
       "True"
      ]
     },
     "execution_count": 28,
     "metadata": {},
     "output_type": "execute_result"
    }
   ],
   "source": [
    "sell_sheet.range((1, last_col), (100, last_col)).api.Copy()\n",
    "sell_sheet.range((1, last_col + 2), (100, last_col + 2)).api.PasteSpecial(Paste=-4122)"
   ]
  },
  {
   "cell_type": "code",
   "execution_count": 14,
   "metadata": {},
   "outputs": [
    {
     "data": {
      "text/plain": [
       "23"
      ]
     },
     "execution_count": 14,
     "metadata": {},
     "output_type": "execute_result"
    }
   ],
   "source": [
    "last_col"
   ]
  },
  {
   "cell_type": "code",
   "execution_count": null,
   "metadata": {},
   "outputs": [],
   "source": [
    "def column_number_to_letter(number):\n",
    "    letter = ''\n",
    "    while number > 0:\n",
    "        number, remainder = divmod(number - 1, 26)\n",
    "        letter = chr(65 + remainder) + letter\n",
    "    return letter\n",
    "\n",
    "old_letter_ventas = column_number_to_letter(last_col-1)\n",
    "new_letter_ventas = column_number_to_letter(last_col+1)\n",
    "\n",
    "old_letter_pagos = column_number_to_letter(last_col)\n",
    "new_letter_pagos = column_number_to_letter(last_col+2)\n",
    "\n",
    "data_range = sell_sheet.range('G83:G86')\n",
    "data_range2 = sell_sheet.range('G90:G98')\n",
    "data_range3 = sell_sheet.range('V83:V86')\n",
    "\n",
    "data_range.api.Replace(What=old_letter_ventas, Replacement=new_letter_ventas, LookAt=xw.constants.LookAt.xlPart, SearchOrder=xw.constants.SearchOrder.xlByRows, MatchCase=False)\n",
    "data_range2.api.Replace(What=old_letter_ventas, Replacement=new_letter_ventas, LookAt=xw.constants.LookAt.xlPart, SearchOrder=xw.constants.SearchOrder.xlByRows, MatchCase=False)\n",
    "data_range3.api.Replace(What=old_letter_pagos, Replacement=new_letter_pagos, LookAt=xw.constants.LookAt.xlPart, SearchOrder=xw.constants.SearchOrder.xlByRows, MatchCase=False)"
   ]
  },
  {
   "cell_type": "code",
   "execution_count": 52,
   "metadata": {},
   "outputs": [],
   "source": [
    "ar510_path = r\"C:\\Users\\nil.monreal\\Desktop\\AR 5 10 PAYMENTS REPORT (RESUMEN) OCTOBER 2024.xlsx\"\n",
    "ar59_path = r\"C:\\Users\\nil.monreal\\Desktop\\AR 5 9 SALES REPORT OCTOBER 2024.xlsx\""
   ]
  },
  {
   "cell_type": "code",
   "execution_count": 53,
   "metadata": {},
   "outputs": [],
   "source": [
    "ar510_wb = xw.Book(ar510_path, update_links=False)\n",
    "ar59_wb = xw.Book(ar59_path, update_links=False)  \n",
    "ar59_sheet = ar59_wb.sheets['AR 5 9']\n",
    "ar510_sheet = ar510_wb.sheets['AR 5 10 (DETAIL)']"
   ]
  },
  {
   "cell_type": "code",
   "execution_count": 38,
   "metadata": {},
   "outputs": [],
   "source": [
    "ar510_data = ar510_sheet.used_range.value \n",
    "ar59_data = ar59_sheet.used_range.value\n",
    "\n",
    "df510 = pd.DataFrame(ar510_data)\n",
    "df59 = pd.DataFrame(ar59_data)\n",
    "\n",
    "ar510_wb.close()\n",
    "ar59_wb.close()"
   ]
  },
  {
   "cell_type": "code",
   "execution_count": 42,
   "metadata": {},
   "outputs": [],
   "source": [
    "df510 = df510.iloc[:-7]\n",
    "ar510_sheet = resume_wb.sheets[\"AR 5 10 PAYMENTS BY CUSTOMER AP\"]\n",
    "ar510_sheet.range(\"A:K\").clear()\n",
    "ar510_sheet.range(\"A1\").value = df510.values"
   ]
  },
  {
   "cell_type": "code",
   "execution_count": 40,
   "metadata": {},
   "outputs": [],
   "source": [
    "df59 =df59.iloc[:-3]\n",
    "ar59_sheet = resume_wb.sheets[\"AR 5 9 SALES BY CUSTOMER\"]\n",
    "ar59_sheet.range(\"A:S\").clear()\n",
    "df59 = df59.iloc[:, :-2]\n",
    "ar59_sheet.range(\"A1\").value = df59.values"
   ]
  },
  {
   "cell_type": "code",
   "execution_count": 41,
   "metadata": {},
   "outputs": [],
   "source": [
    "ar_sheet = resume_wb.sheets['AR 5 10 PAYMENTS BY CUSTOMER AP']"
   ]
  },
  {
   "cell_type": "code",
   "execution_count": null,
   "metadata": {},
   "outputs": [],
   "source": []
  }
 ],
 "metadata": {
  "kernelspec": {
   "display_name": "Python 3",
   "language": "python",
   "name": "python3"
  },
  "language_info": {
   "codemirror_mode": {
    "name": "ipython",
    "version": 3
   },
   "file_extension": ".py",
   "mimetype": "text/x-python",
   "name": "python",
   "nbconvert_exporter": "python",
   "pygments_lexer": "ipython3",
   "version": "3.12.5"
  }
 },
 "nbformat": 4,
 "nbformat_minor": 2
}
