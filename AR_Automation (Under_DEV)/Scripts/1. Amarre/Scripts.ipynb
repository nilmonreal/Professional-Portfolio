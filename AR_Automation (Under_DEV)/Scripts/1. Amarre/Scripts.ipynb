{
 "cells": [
  {
   "cell_type": "code",
   "execution_count": 4,
   "metadata": {},
   "outputs": [],
   "source": [
    "import xlwings as xw\n",
    "import pandas as pd"
   ]
  },
  {
   "cell_type": "code",
   "execution_count": 5,
   "metadata": {},
   "outputs": [],
   "source": [
    "amarre_path = r\"C:\\Users\\nil.monreal\\Desktop\\7. Cierre de mes AR\\1.1- AMARRE AGING Vs. BALANZA AJUSTADO JANUARY 2025.xlsx\""
   ]
  },
  {
   "cell_type": "code",
   "execution_count": 6,
   "metadata": {},
   "outputs": [],
   "source": [
    "amarre_wb = xw.Book(amarre_path, update_links=False)  # Open the Amarre workbook\n",
    "ar52_sheet = amarre_wb.sheets['AR 5 2 AGING (FINAL)'] \n",
    "emb_sheet = amarre_wb.sheets['Embraer'] \n",
    "safran_sheet = amarre_wb.sheets['Safran'] \n",
    "other_sheet = amarre_wb.sheets['Others'] "
   ]
  },
  {
   "cell_type": "code",
   "execution_count": 7,
   "metadata": {},
   "outputs": [],
   "source": [
    "emb_sheet.delete()\n",
    "safran_sheet.delete()\n",
    "other_sheet.delete()"
   ]
  },
  {
   "cell_type": "code",
   "execution_count": 8,
   "metadata": {},
   "outputs": [],
   "source": [
    "# Get the last row to define the range\n",
    "last_row = ar52_sheet.range('A' + str(ar52_sheet.cells.last_cell.row)).end('up').row\n"
   ]
  },
  {
   "cell_type": "code",
   "execution_count": 9,
   "metadata": {},
   "outputs": [
    {
     "data": {
      "text/plain": [
       "2981"
      ]
     },
     "execution_count": 9,
     "metadata": {},
     "output_type": "execute_result"
    }
   ],
   "source": [
    "last_row"
   ]
  },
  {
   "cell_type": "code",
   "execution_count": 10,
   "metadata": {},
   "outputs": [
    {
     "data": {
      "text/plain": [
       "True"
      ]
     },
     "execution_count": 10,
     "metadata": {},
     "output_type": "execute_result"
    }
   ],
   "source": [
    "last_row = ar52_sheet.range('L' + str(ar52_sheet.cells.last_cell.row)).end('up').row\n",
    "\n",
    "ar52_sheet.range(f'{last_row-9}:{last_row+1}').api.Delete()\n"
   ]
  },
  {
   "cell_type": "code",
   "execution_count": 11,
   "metadata": {},
   "outputs": [
    {
     "data": {
      "text/plain": [
       "2981"
      ]
     },
     "execution_count": 11,
     "metadata": {},
     "output_type": "execute_result"
    }
   ],
   "source": [
    "last_row2 = ar52_sheet.range('C' + str(ar52_sheet.cells.last_cell.row)).end('up').row\n",
    "last_row2"
   ]
  },
  {
   "cell_type": "code",
   "execution_count": 12,
   "metadata": {},
   "outputs": [
    {
     "data": {
      "text/plain": [
       "2998"
      ]
     },
     "execution_count": 12,
     "metadata": {},
     "output_type": "execute_result"
    }
   ],
   "source": [
    "last_row = ar52_sheet.range('M' + str(ar52_sheet.cells.last_cell.row)).end('up').row\n",
    "last_row"
   ]
  },
  {
   "cell_type": "code",
   "execution_count": 13,
   "metadata": {},
   "outputs": [],
   "source": [
    "ar52_sheet.range(f'M{last_row-4}').formula = f\"\"\"=SUMIF(O7:O{last_row2},\"EMB\",I7:I{last_row2})\"\"\"\n",
    "ar52_sheet.range(f'M{last_row-2}').formula = f\"\"\"=SUMIF($O$7:$O${last_row2},\"CDZ\",$I$7:$I${last_row2})+SUMIF($O$7:$O${last_row2},\"OCT\",$I$7:$I${last_row2})\"\"\"\n",
    "ar52_sheet.range(f'M{last_row-1}').formula = f\"\"\"=SUMIF(O7:O{last_row2},\"OTHER\",I7:I{last_row2})\"\"\"\n",
    "\n",
    "ar52_sheet.range(f'L{last_row-2}').formula = f\"\"\"=L{last_row-10}-L{last_row-1}\"\"\"\n",
    "ar52_sheet.range(f'L{last_row-1}').formula = f\"\"\"=SUMIF(O7:O{last_row2},\"OTHER\",I7:I{last_row2})\"\"\""
   ]
  },
  {
   "cell_type": "code",
   "execution_count": 15,
   "metadata": {},
   "outputs": [],
   "source": [
    "amarre_wb.save(r\"C:\\Users\\nil.monreal\\Desktop\\7. Cierre de mes AR\\1- AMARRE AGING Vs. BALANZA JANUARY 2025.xlsx\")"
   ]
  },
  {
   "cell_type": "code",
   "execution_count": null,
   "metadata": {},
   "outputs": [],
   "source": []
  },
  {
   "cell_type": "code",
   "execution_count": null,
   "metadata": {},
   "outputs": [],
   "source": []
  },
  {
   "cell_type": "code",
   "execution_count": null,
   "metadata": {},
   "outputs": [],
   "source": []
  },
  {
   "cell_type": "code",
   "execution_count": null,
   "metadata": {},
   "outputs": [],
   "source": []
  },
  {
   "cell_type": "code",
   "execution_count": null,
   "metadata": {},
   "outputs": [],
   "source": []
  },
  {
   "cell_type": "code",
   "execution_count": null,
   "metadata": {},
   "outputs": [],
   "source": []
  },
  {
   "cell_type": "code",
   "execution_count": null,
   "metadata": {},
   "outputs": [],
   "source": []
  },
  {
   "cell_type": "code",
   "execution_count": null,
   "metadata": {},
   "outputs": [],
   "source": []
  },
  {
   "cell_type": "code",
   "execution_count": null,
   "metadata": {},
   "outputs": [],
   "source": []
  },
  {
   "cell_type": "code",
   "execution_count": null,
   "metadata": {},
   "outputs": [],
   "source": []
  },
  {
   "cell_type": "code",
   "execution_count": null,
   "metadata": {},
   "outputs": [],
   "source": []
  },
  {
   "cell_type": "code",
   "execution_count": null,
   "metadata": {},
   "outputs": [],
   "source": []
  },
  {
   "cell_type": "code",
   "execution_count": null,
   "metadata": {},
   "outputs": [],
   "source": []
  }
 ],
 "metadata": {
  "kernelspec": {
   "display_name": "base",
   "language": "python",
   "name": "python3"
  },
  "language_info": {
   "codemirror_mode": {
    "name": "ipython",
    "version": 3
   },
   "file_extension": ".py",
   "mimetype": "text/x-python",
   "name": "python",
   "nbconvert_exporter": "python",
   "pygments_lexer": "ipython3",
   "version": "3.12.4"
  }
 },
 "nbformat": 4,
 "nbformat_minor": 2
}
