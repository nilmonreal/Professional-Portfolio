{
 "cells": [
  {
   "cell_type": "code",
   "execution_count": 1,
   "metadata": {},
   "outputs": [],
   "source": [
    "import xlwings as xw\n",
    "import pandas as pd\n",
    "import datetime"
   ]
  },
  {
   "cell_type": "code",
   "execution_count": 2,
   "metadata": {},
   "outputs": [],
   "source": [
    "ar52_path =r\"C:\\Users\\nil.monreal\\Desktop\\AR 5 2 AGING REPORT OCTOBER 2024.xlsx\"\n",
    "ar52_wb = xw.Book(ar52_path)"
   ]
  },
  {
   "cell_type": "code",
   "execution_count": 3,
   "metadata": {},
   "outputs": [],
   "source": [
    "current_date = datetime.datetime.now()\n",
    "month = current_date.strftime('%B') \n",
    "\n",
    "def get_previous_month(date):\n",
    "    first_day_of_current_month = datetime.date(date.year, date.month, 1)\n",
    "    last_day_of_previous_month = first_day_of_current_month - datetime.timedelta(days=1)\n",
    "    return last_day_of_previous_month.strftime('%B')\n",
    "\n",
    "month = get_previous_month(current_date)\n"
   ]
  },
  {
   "cell_type": "code",
   "execution_count": 4,
   "metadata": {},
   "outputs": [],
   "source": [
    "resume_sheet = ar52_wb.sheets['RESUMEN']"
   ]
  },
  {
   "cell_type": "code",
   "execution_count": 5,
   "metadata": {},
   "outputs": [],
   "source": [
    "resume_sheet.api.Rows.Hidden = False\n",
    "resume_sheet.range(\"15:31\").clear()\n",
    "for shape in resume_sheet.shapes:\n",
    "    if shape.name == 'Straight Arrow Connector 1':\n",
    "        shape.delete()"
   ]
  },
  {
   "cell_type": "code",
   "execution_count": 6,
   "metadata": {},
   "outputs": [
    {
     "data": {
      "text/plain": [
       "True"
      ]
     },
     "execution_count": 6,
     "metadata": {},
     "output_type": "execute_result"
    }
   ],
   "source": [
    "resume_sheet.api.Rows(\"15:32\").Insert()"
   ]
  },
  {
   "cell_type": "code",
   "execution_count": 7,
   "metadata": {},
   "outputs": [],
   "source": [
    "ar52_path2 =r\"C:\\Users\\nil.monreal\\Desktop\\4. - AR 5 2 AGING REPORT OCTOBER AJUSTADO 2024.xlsx\"\n",
    "ar52_wb2 = xw.Book(ar52_path2, update_links=False)"
   ]
  },
  {
   "cell_type": "code",
   "execution_count": 9,
   "metadata": {},
   "outputs": [],
   "source": [
    "resume_sheet2 = ar52_wb2.sheets['RESUMEN']\n",
    "formulas = resume_sheet2.range(\"B18:J18\").formula\n",
    "formulas\n",
    "for f in formulas:\n",
    "    resume_sheet.range(\"B17\").options(transpose=False).value = f\n",
    "# Print blanks because the spreadsheet is broken"
   ]
  },
  {
   "cell_type": "code",
   "execution_count": 10,
   "metadata": {},
   "outputs": [
    {
     "data": {
      "text/plain": [
       "True"
      ]
     },
     "execution_count": 10,
     "metadata": {},
     "output_type": "execute_result"
    }
   ],
   "source": [
    "resume_sheet2.range(\"C20:H38\").api.Copy()\n",
    "resume_sheet.range(\"C20\").api.PasteSpecial()"
   ]
  },
  {
   "cell_type": "code",
   "execution_count": 11,
   "metadata": {},
   "outputs": [
    {
     "ename": "FileNotFoundError",
     "evalue": "No such file: 'C:\\Users\\nil.monreal\\Desktop\\Nil\\EZ Notes\\Python Scripts\\Pyhton Scripts\\AR Automation\\AR Reports\\3.- RESUMEN AR JULY 2024.xlsx'",
     "output_type": "error",
     "traceback": [
      "\u001b[1;31m---------------------------------------------------------------------------\u001b[0m",
      "\u001b[1;31mFileNotFoundError\u001b[0m                         Traceback (most recent call last)",
      "Cell \u001b[1;32mIn[11], line 2\u001b[0m\n\u001b[0;32m      1\u001b[0m resume_ar_path \u001b[38;5;241m=\u001b[39m \u001b[38;5;124mr\u001b[39m\u001b[38;5;124m\"\u001b[39m\u001b[38;5;124mC:\u001b[39m\u001b[38;5;124m\\\u001b[39m\u001b[38;5;124mUsers\u001b[39m\u001b[38;5;124m\\\u001b[39m\u001b[38;5;124mnil.monreal\u001b[39m\u001b[38;5;124m\\\u001b[39m\u001b[38;5;124mDesktop\u001b[39m\u001b[38;5;124m\\\u001b[39m\u001b[38;5;124mNil\u001b[39m\u001b[38;5;124m\\\u001b[39m\u001b[38;5;124mEZ Notes\u001b[39m\u001b[38;5;124m\\\u001b[39m\u001b[38;5;124mPython Scripts\u001b[39m\u001b[38;5;124m\\\u001b[39m\u001b[38;5;124mPyhton Scripts\u001b[39m\u001b[38;5;124m\\\u001b[39m\u001b[38;5;124mAR Automation\u001b[39m\u001b[38;5;124m\\\u001b[39m\u001b[38;5;124mAR Reports\u001b[39m\u001b[38;5;124m\\\u001b[39m\u001b[38;5;124m3.- RESUMEN AR JULY 2024.xlsx\u001b[39m\u001b[38;5;124m\"\u001b[39m\n\u001b[1;32m----> 2\u001b[0m resume_ar_book \u001b[38;5;241m=\u001b[39m \u001b[43mxw\u001b[49m\u001b[38;5;241;43m.\u001b[39;49m\u001b[43mBook\u001b[49m\u001b[43m(\u001b[49m\u001b[43mresume_ar_path\u001b[49m\u001b[43m,\u001b[49m\u001b[43m \u001b[49m\u001b[43mupdate_links\u001b[49m\u001b[38;5;241;43m=\u001b[39;49m\u001b[38;5;28;43;01mFalse\u001b[39;49;00m\u001b[43m)\u001b[49m\n\u001b[0;32m      3\u001b[0m resume_ar_sheet \u001b[38;5;241m=\u001b[39m resume_ar_book\u001b[38;5;241m.\u001b[39msheets[\u001b[38;5;124m'\u001b[39m\u001b[38;5;124mTRIAL BALANCE\u001b[39m\u001b[38;5;124m'\u001b[39m]\n\u001b[0;32m      4\u001b[0m shape \u001b[38;5;241m=\u001b[39m resume_ar_sheet\u001b[38;5;241m.\u001b[39mapi\u001b[38;5;241m.\u001b[39mShapes(\u001b[38;5;124m\"\u001b[39m\u001b[38;5;124mPicture 2\u001b[39m\u001b[38;5;124m\"\u001b[39m)\n",
      "File \u001b[1;32mc:\\Users\\nil.monreal\\AppData\\Local\\Programs\\Python\\Python312\\Lib\\site-packages\\xlwings\\main.py:933\u001b[0m, in \u001b[0;36mBook.__init__\u001b[1;34m(self, fullname, update_links, read_only, format, password, write_res_password, ignore_read_only_recommended, origin, delimiter, editable, notify, converter, add_to_mru, local, corrupt_load, impl, json, mode, engine, **kwargs)\u001b[0m\n\u001b[0;32m    931\u001b[0m     \u001b[38;5;28;01mif\u001b[39;00m \u001b[38;5;129;01mnot\u001b[39;00m app:\n\u001b[0;32m    932\u001b[0m         app \u001b[38;5;241m=\u001b[39m App(add_book\u001b[38;5;241m=\u001b[39m\u001b[38;5;28;01mFalse\u001b[39;00m)\n\u001b[1;32m--> 933\u001b[0m     impl \u001b[38;5;241m=\u001b[39m \u001b[43mapp\u001b[49m\u001b[38;5;241;43m.\u001b[39;49m\u001b[43mbooks\u001b[49m\u001b[38;5;241;43m.\u001b[39;49m\u001b[43mopen\u001b[49m\u001b[43m(\u001b[49m\n\u001b[0;32m    934\u001b[0m \u001b[43m        \u001b[49m\u001b[43mfullname\u001b[49m\u001b[43m,\u001b[49m\n\u001b[0;32m    935\u001b[0m \u001b[43m        \u001b[49m\u001b[43mupdate_links\u001b[49m\u001b[43m,\u001b[49m\n\u001b[0;32m    936\u001b[0m \u001b[43m        \u001b[49m\u001b[43mread_only\u001b[49m\u001b[43m,\u001b[49m\n\u001b[0;32m    937\u001b[0m \u001b[43m        \u001b[49m\u001b[38;5;28;43mformat\u001b[39;49m\u001b[43m,\u001b[49m\n\u001b[0;32m    938\u001b[0m \u001b[43m        \u001b[49m\u001b[43mpassword\u001b[49m\u001b[43m,\u001b[49m\n\u001b[0;32m    939\u001b[0m \u001b[43m        \u001b[49m\u001b[43mwrite_res_password\u001b[49m\u001b[43m,\u001b[49m\n\u001b[0;32m    940\u001b[0m \u001b[43m        \u001b[49m\u001b[43mignore_read_only_recommended\u001b[49m\u001b[43m,\u001b[49m\n\u001b[0;32m    941\u001b[0m \u001b[43m        \u001b[49m\u001b[43morigin\u001b[49m\u001b[43m,\u001b[49m\n\u001b[0;32m    942\u001b[0m \u001b[43m        \u001b[49m\u001b[43mdelimiter\u001b[49m\u001b[43m,\u001b[49m\n\u001b[0;32m    943\u001b[0m \u001b[43m        \u001b[49m\u001b[43meditable\u001b[49m\u001b[43m,\u001b[49m\n\u001b[0;32m    944\u001b[0m \u001b[43m        \u001b[49m\u001b[43mnotify\u001b[49m\u001b[43m,\u001b[49m\n\u001b[0;32m    945\u001b[0m \u001b[43m        \u001b[49m\u001b[43mconverter\u001b[49m\u001b[43m,\u001b[49m\n\u001b[0;32m    946\u001b[0m \u001b[43m        \u001b[49m\u001b[43madd_to_mru\u001b[49m\u001b[43m,\u001b[49m\n\u001b[0;32m    947\u001b[0m \u001b[43m        \u001b[49m\u001b[43mlocal\u001b[49m\u001b[43m,\u001b[49m\n\u001b[0;32m    948\u001b[0m \u001b[43m        \u001b[49m\u001b[43mcorrupt_load\u001b[49m\u001b[43m,\u001b[49m\n\u001b[0;32m    949\u001b[0m \u001b[43m    \u001b[49m\u001b[43m)\u001b[49m\u001b[38;5;241m.\u001b[39mimpl\n\u001b[0;32m    950\u001b[0m \u001b[38;5;28;01melif\u001b[39;00m \u001b[38;5;28mlen\u001b[39m(candidates) \u001b[38;5;241m>\u001b[39m \u001b[38;5;241m1\u001b[39m:\n\u001b[0;32m    951\u001b[0m     \u001b[38;5;28;01mraise\u001b[39;00m \u001b[38;5;167;01mException\u001b[39;00m(\n\u001b[0;32m    952\u001b[0m         \u001b[38;5;124m\"\u001b[39m\u001b[38;5;124mWorkbook \u001b[39m\u001b[38;5;124m'\u001b[39m\u001b[38;5;132;01m%s\u001b[39;00m\u001b[38;5;124m'\u001b[39m\u001b[38;5;124m is open in more than one Excel instance.\u001b[39m\u001b[38;5;124m\"\u001b[39m\n\u001b[0;32m    953\u001b[0m         \u001b[38;5;241m%\u001b[39m fullname\n\u001b[0;32m    954\u001b[0m     )\n",
      "File \u001b[1;32mc:\\Users\\nil.monreal\\AppData\\Local\\Programs\\Python\\Python312\\Lib\\site-packages\\xlwings\\main.py:5157\u001b[0m, in \u001b[0;36mBooks.open\u001b[1;34m(self, fullname, update_links, read_only, format, password, write_res_password, ignore_read_only_recommended, origin, delimiter, editable, notify, converter, add_to_mru, local, corrupt_load, json)\u001b[0m\n\u001b[0;32m   5155\u001b[0m fullname \u001b[38;5;241m=\u001b[39m utils\u001b[38;5;241m.\u001b[39mfspath(fullname)\n\u001b[0;32m   5156\u001b[0m \u001b[38;5;28;01mif\u001b[39;00m \u001b[38;5;129;01mnot\u001b[39;00m os\u001b[38;5;241m.\u001b[39mpath\u001b[38;5;241m.\u001b[39mexists(fullname):\n\u001b[1;32m-> 5157\u001b[0m     \u001b[38;5;28;01mraise\u001b[39;00m \u001b[38;5;167;01mFileNotFoundError\u001b[39;00m(\u001b[38;5;124m\"\u001b[39m\u001b[38;5;124mNo such file: \u001b[39m\u001b[38;5;124m'\u001b[39m\u001b[38;5;132;01m%s\u001b[39;00m\u001b[38;5;124m'\u001b[39m\u001b[38;5;124m\"\u001b[39m \u001b[38;5;241m%\u001b[39m fullname)\n\u001b[0;32m   5158\u001b[0m fullname \u001b[38;5;241m=\u001b[39m os\u001b[38;5;241m.\u001b[39mpath\u001b[38;5;241m.\u001b[39mrealpath(fullname)\n\u001b[0;32m   5159\u001b[0m _, name \u001b[38;5;241m=\u001b[39m os\u001b[38;5;241m.\u001b[39mpath\u001b[38;5;241m.\u001b[39msplit(fullname)\n",
      "\u001b[1;31mFileNotFoundError\u001b[0m: No such file: 'C:\\Users\\nil.monreal\\Desktop\\Nil\\EZ Notes\\Python Scripts\\Pyhton Scripts\\AR Automation\\AR Reports\\3.- RESUMEN AR JULY 2024.xlsx'"
     ]
    }
   ],
   "source": [
    "resume_ar_path = r\"C:\\Users\\nil.monreal\\Desktop\\Nil\\EZ Notes\\Python Scripts\\Pyhton Scripts\\AR Automation\\AR Reports\\3.- RESUMEN AR JULY 2024.xlsx\"\n",
    "resume_ar_book = xw.Book(resume_ar_path, update_links=False)\n",
    "resume_ar_sheet = resume_ar_book.sheets['TRIAL BALANCE']\n",
    "shape = resume_ar_sheet.api.Shapes(\"Picture 2\")\n",
    "shape = resume_ar_sheet.api.Shapes(\"Picture 3\")\n",
    "# shape.Copy()\n",
    "# sheet2.api.Paste()"
   ]
  },
  {
   "cell_type": "code",
   "execution_count": null,
   "metadata": {},
   "outputs": [],
   "source": []
  }
 ],
 "metadata": {
  "kernelspec": {
   "display_name": "Python 3",
   "language": "python",
   "name": "python3"
  },
  "language_info": {
   "codemirror_mode": {
    "name": "ipython",
    "version": 3
   },
   "file_extension": ".py",
   "mimetype": "text/x-python",
   "name": "python",
   "nbconvert_exporter": "python",
   "pygments_lexer": "ipython3",
   "version": "3.12.5"
  }
 },
 "nbformat": 4,
 "nbformat_minor": 2
}
