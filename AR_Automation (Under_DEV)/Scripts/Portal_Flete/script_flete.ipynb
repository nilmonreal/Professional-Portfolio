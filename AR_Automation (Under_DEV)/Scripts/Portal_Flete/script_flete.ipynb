{
 "cells": [
  {
   "cell_type": "markdown",
   "metadata": {},
   "source": [
    "# Script Flete"
   ]
  },
  {
   "cell_type": "code",
   "execution_count": 4,
   "metadata": {},
   "outputs": [],
   "source": [
    "import xlwings as xw\n",
    "import pandas as pd"
   ]
  },
  {
   "cell_type": "code",
   "execution_count": 5,
   "metadata": {},
   "outputs": [],
   "source": [
    "path = r\"C:\\Users\\nil.monreal\\Desktop\\EZ Air Shipments Report.xlsx\"\n",
    "\n",
    "try:\n",
    "    flete_wb = xw.Book(path, update_links=False)  # Open workbook\n",
    "except Exception as e:\n",
    "    print(f\"Error: {e}\")\n"
   ]
  },
  {
   "cell_type": "code",
   "execution_count": 6,
   "metadata": {},
   "outputs": [],
   "source": [
    "act_sheet = flete_wb.sheets['Activity'] "
   ]
  },
  {
   "cell_type": "code",
   "execution_count": 7,
   "metadata": {},
   "outputs": [
    {
     "data": {
      "text/plain": [
       "3281"
      ]
     },
     "execution_count": 7,
     "metadata": {},
     "output_type": "execute_result"
    }
   ],
   "source": [
    "last_row = act_sheet.range('A3').end('down').row\n",
    "\n",
    "last_row"
   ]
  },
  {
   "cell_type": "code",
   "execution_count": 8,
   "metadata": {},
   "outputs": [
    {
     "data": {
      "text/plain": [
       "True"
      ]
     },
     "execution_count": 8,
     "metadata": {},
     "output_type": "execute_result"
    }
   ],
   "source": [
    "act_sheet.range(f\"A3:AU{last_row}\").api.AutoFilter(Field=44, Criteria1=\"<>\", Operator=1)"
   ]
  },
  {
   "cell_type": "code",
   "execution_count": 9,
   "metadata": {},
   "outputs": [],
   "source": [
    "# Define your specific range\n",
    "visible_range = act_sheet.range(f\"AU:AU\").api.SpecialCells(12)"
   ]
  },
  {
   "cell_type": "code",
   "execution_count": 10,
   "metadata": {},
   "outputs": [],
   "source": [
    "values = act_sheet.range(f\"AU3:AU{last_row}\").value\n",
    "\n",
    "# Create DataFrame (skip header if needed)\n",
    "df = pd.DataFrame(values[1:], columns=['AU'])"
   ]
  },
  {
   "cell_type": "code",
   "execution_count": 11,
   "metadata": {},
   "outputs": [
    {
     "data": {
      "text/html": [
       "<div>\n",
       "<style scoped>\n",
       "    .dataframe tbody tr th:only-of-type {\n",
       "        vertical-align: middle;\n",
       "    }\n",
       "\n",
       "    .dataframe tbody tr th {\n",
       "        vertical-align: top;\n",
       "    }\n",
       "\n",
       "    .dataframe thead th {\n",
       "        text-align: right;\n",
       "    }\n",
       "</style>\n",
       "<table border=\"1\" class=\"dataframe\">\n",
       "  <thead>\n",
       "    <tr style=\"text-align: right;\">\n",
       "      <th></th>\n",
       "      <th>AU</th>\n",
       "    </tr>\n",
       "  </thead>\n",
       "  <tbody>\n",
       "    <tr>\n",
       "      <th>0</th>\n",
       "      <td>CH173806</td>\n",
       "    </tr>\n",
       "    <tr>\n",
       "      <th>1</th>\n",
       "      <td>CH174522</td>\n",
       "    </tr>\n",
       "    <tr>\n",
       "      <th>2</th>\n",
       "      <td>CH174688</td>\n",
       "    </tr>\n",
       "    <tr>\n",
       "      <th>3</th>\n",
       "      <td>CH174777</td>\n",
       "    </tr>\n",
       "    <tr>\n",
       "      <th>4</th>\n",
       "      <td>CH174543</td>\n",
       "    </tr>\n",
       "    <tr>\n",
       "      <th>...</th>\n",
       "      <td>...</td>\n",
       "    </tr>\n",
       "    <tr>\n",
       "      <th>3273</th>\n",
       "      <td>CH165358</td>\n",
       "    </tr>\n",
       "    <tr>\n",
       "      <th>3274</th>\n",
       "      <td>CH165359</td>\n",
       "    </tr>\n",
       "    <tr>\n",
       "      <th>3275</th>\n",
       "      <td>CH165360</td>\n",
       "    </tr>\n",
       "    <tr>\n",
       "      <th>3276</th>\n",
       "      <td>CH165361</td>\n",
       "    </tr>\n",
       "    <tr>\n",
       "      <th>3277</th>\n",
       "      <td>CH93727</td>\n",
       "    </tr>\n",
       "  </tbody>\n",
       "</table>\n",
       "<p>3278 rows × 1 columns</p>\n",
       "</div>"
      ],
      "text/plain": [
       "            AU\n",
       "0     CH173806\n",
       "1     CH174522\n",
       "2     CH174688\n",
       "3     CH174777\n",
       "4     CH174543\n",
       "...        ...\n",
       "3273  CH165358\n",
       "3274  CH165359\n",
       "3275  CH165360\n",
       "3276  CH165361\n",
       "3277   CH93727\n",
       "\n",
       "[3278 rows x 1 columns]"
      ]
     },
     "execution_count": 11,
     "metadata": {},
     "output_type": "execute_result"
    }
   ],
   "source": [
    "df"
   ]
  },
  {
   "cell_type": "code",
   "execution_count": 12,
   "metadata": {},
   "outputs": [],
   "source": [
    "def clean_au_value(value):\n",
    "    if isinstance(value, str):\n",
    "        # Remove double CH instances\n",
    "        value = value.replace('CHCH', 'CH')\n",
    "        # Add CH if missing and keep only digits after\n",
    "        if not value.startswith('CH'):\n",
    "            return 'CH' + ''.join(filter(str.isdigit, value))\n",
    "        return 'CH' + ''.join(filter(str.isdigit, value[2:]))\n",
    "    elif isinstance(value, (int, float)):\n",
    "        # Handle numeric values by converting to string and adding CH\n",
    "        return 'CH' + str(int(value))\n",
    "    return value\n",
    "\n",
    "# Apply the cleaning function to your AU column\n",
    "df['AU'] = df['AU'].apply(clean_au_value)"
   ]
  },
  {
   "cell_type": "code",
   "execution_count": 13,
   "metadata": {},
   "outputs": [
    {
     "data": {
      "text/html": [
       "<div>\n",
       "<style scoped>\n",
       "    .dataframe tbody tr th:only-of-type {\n",
       "        vertical-align: middle;\n",
       "    }\n",
       "\n",
       "    .dataframe tbody tr th {\n",
       "        vertical-align: top;\n",
       "    }\n",
       "\n",
       "    .dataframe thead th {\n",
       "        text-align: right;\n",
       "    }\n",
       "</style>\n",
       "<table border=\"1\" class=\"dataframe\">\n",
       "  <thead>\n",
       "    <tr style=\"text-align: right;\">\n",
       "      <th></th>\n",
       "      <th>AU</th>\n",
       "    </tr>\n",
       "  </thead>\n",
       "  <tbody>\n",
       "    <tr>\n",
       "      <th>0</th>\n",
       "      <td>CH173806</td>\n",
       "    </tr>\n",
       "    <tr>\n",
       "      <th>1</th>\n",
       "      <td>CH174522</td>\n",
       "    </tr>\n",
       "    <tr>\n",
       "      <th>2</th>\n",
       "      <td>CH174688</td>\n",
       "    </tr>\n",
       "    <tr>\n",
       "      <th>3</th>\n",
       "      <td>CH174777</td>\n",
       "    </tr>\n",
       "    <tr>\n",
       "      <th>4</th>\n",
       "      <td>CH174543</td>\n",
       "    </tr>\n",
       "    <tr>\n",
       "      <th>...</th>\n",
       "      <td>...</td>\n",
       "    </tr>\n",
       "    <tr>\n",
       "      <th>3273</th>\n",
       "      <td>CH165358</td>\n",
       "    </tr>\n",
       "    <tr>\n",
       "      <th>3274</th>\n",
       "      <td>CH165359</td>\n",
       "    </tr>\n",
       "    <tr>\n",
       "      <th>3275</th>\n",
       "      <td>CH165360</td>\n",
       "    </tr>\n",
       "    <tr>\n",
       "      <th>3276</th>\n",
       "      <td>CH165361</td>\n",
       "    </tr>\n",
       "    <tr>\n",
       "      <th>3277</th>\n",
       "      <td>CH93727</td>\n",
       "    </tr>\n",
       "  </tbody>\n",
       "</table>\n",
       "<p>3278 rows × 1 columns</p>\n",
       "</div>"
      ],
      "text/plain": [
       "            AU\n",
       "0     CH173806\n",
       "1     CH174522\n",
       "2     CH174688\n",
       "3     CH174777\n",
       "4     CH174543\n",
       "...        ...\n",
       "3273  CH165358\n",
       "3274  CH165359\n",
       "3275  CH165360\n",
       "3276  CH165361\n",
       "3277   CH93727\n",
       "\n",
       "[3278 rows x 1 columns]"
      ]
     },
     "execution_count": 13,
     "metadata": {},
     "output_type": "execute_result"
    }
   ],
   "source": [
    "df"
   ]
  },
  {
   "cell_type": "code",
   "execution_count": 14,
   "metadata": {},
   "outputs": [
    {
     "name": "stdout",
     "output_type": "stream",
     "text": [
      "Unique values in the column:\n",
      "['CH173806' 'CH174522' 'CH174688' ... 'CH165360' 'CH165361' 'CH93727']\n",
      "\n",
      "Values not starting with 'CH':\n",
      "Empty DataFrame\n",
      "Columns: [AU]\n",
      "Index: []\n",
      "\n",
      "Values not 8 characters long:\n",
      "                  AU\n",
      "7            CH17492\n",
      "48         CH1744444\n",
      "73         CH1784453\n",
      "84    CH174252174253\n",
      "136          CH74136\n",
      "...              ...\n",
      "3230         CH93762\n",
      "3235         CH93781\n",
      "3237         CH93791\n",
      "3239         CH93761\n",
      "3277         CH93727\n",
      "\n",
      "[165 rows x 1 columns]\n",
      "\n",
      "Value counts:\n",
      "AU\n",
      "CH          54\n",
      "CH169672     2\n",
      "CH16986      2\n",
      "CH171312     2\n",
      "CH171310     2\n",
      "Name: count, dtype: int64\n",
      "\n",
      "Values containing 'CHCH':\n",
      "Empty DataFrame\n",
      "Columns: [AU]\n",
      "Index: []\n"
     ]
    }
   ],
   "source": [
    "# Display unique values to check the patterns\n",
    "print(\"Unique values in the column:\")\n",
    "print(df['AU'].unique())\n",
    "\n",
    "# Check if all values start with 'CH'\n",
    "print(\"\\nValues not starting with 'CH':\")\n",
    "print(df[~df['AU'].str.startswith('CH')])\n",
    "\n",
    "# Check the length of each value (should be 8 if format is CHxxxxxx)\n",
    "print(\"\\nValues not 8 characters long:\")\n",
    "print(df[df['AU'].str.len() != 8])\n",
    "\n",
    "# Display value counts to see frequency of each value\n",
    "print(\"\\nValue counts:\")\n",
    "print(df['AU'].value_counts().head())\n",
    "\n",
    "# Check for any remaining double 'CHCH'\n",
    "print(\"\\nValues containing 'CHCH':\")\n",
    "print(df[df['AU'].str.contains('CHCH', na=False)])"
   ]
  },
  {
   "cell_type": "code",
   "execution_count": 15,
   "metadata": {},
   "outputs": [],
   "source": [
    "# Convert DataFrame column to list of values\n",
    "cleaned_values = df['AU'].tolist()\n",
    "\n",
    "for i, value in enumerate(cleaned_values, start=4):\n",
    "    act_sheet.range(f'AU{i}').value = value"
   ]
  },
  {
   "cell_type": "code",
   "execution_count": 16,
   "metadata": {},
   "outputs": [],
   "source": [
    "flete_wb.save()\n",
    "flete_wb.close()"
   ]
  },
  {
   "cell_type": "code",
   "execution_count": null,
   "metadata": {},
   "outputs": [],
   "source": []
  }
 ],
 "metadata": {
  "kernelspec": {
   "display_name": "base",
   "language": "python",
   "name": "python3"
  },
  "language_info": {
   "codemirror_mode": {
    "name": "ipython",
    "version": 3
   },
   "file_extension": ".py",
   "mimetype": "text/x-python",
   "name": "python",
   "nbconvert_exporter": "python",
   "pygments_lexer": "ipython3",
   "version": "3.12.4"
  }
 },
 "nbformat": 4,
 "nbformat_minor": 2
}
