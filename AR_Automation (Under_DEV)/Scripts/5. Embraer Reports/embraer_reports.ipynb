{
 "cells": [
  {
   "cell_type": "markdown",
   "metadata": {},
   "source": [
    "Embraer Reports"
   ]
  },
  {
   "cell_type": "code",
   "execution_count": 14,
   "metadata": {},
   "outputs": [],
   "source": [
    "import xlwings as xw\n",
    "import pandas as pd\n",
    "import datetime\n",
    "import os\n",
    "from pathlib import Path\n",
    "import sys\n",
    "sys.path.append('..')\n",
    "from unprotect_xlsx import remove_excel_protection"
   ]
  },
  {
   "cell_type": "code",
   "execution_count": 15,
   "metadata": {},
   "outputs": [],
   "source": [
    "current_date = datetime.datetime.now()\n",
    "\n",
    "def get_previous_month(date):\n",
    "    first_day_of_current_month = datetime.date(date.year, date.month, 1)\n",
    "    last_day_of_previous_month = first_day_of_current_month - datetime.timedelta(days=1)\n",
    "    return last_day_of_previous_month.strftime('%B')\n",
    "\n",
    "def get_previous_two_months(date):\n",
    "    first_day_of_current_month = datetime.date(date.year, date.month, 1)\n",
    "    last_day_of_two_months_back = first_day_of_current_month - datetime.timedelta(days=1)\n",
    "    last_day_of_two_months_back = last_day_of_two_months_back.replace(day=1) - datetime.timedelta(days=1)\n",
    "    return last_day_of_two_months_back.strftime('%B')\n",
    "\n",
    "prev_month = get_previous_two_months(current_date)\n",
    "month = get_previous_month(current_date)\n",
    "\n",
    "general_path_prev = os.path.join(r\"C:\\Users\\nil.monreal\\Desktop\\7. Cierre de mes AR\\5.- EZA1 Accounts Receivable Itercompany December 2024\\1. Embraer\", rf\"1.- EZA1 Accounts Receivable Intercompany {prev_month.upper()} - General 2024.xlsx\")\n",
    "general_path = os.path.join(r\"C:\\Users\\nil.monreal\\Desktop\\7. Cierre de mes AR\\5.- EZA1 Accounts Receivable Itercompany January 2025\\1. Embraer\", rf\"1.- EZA1 Accounts Receivable Intercompany {month.upper()} - General 2025.xlsx\")\n",
    "general_book = xw.Book(general_path_prev, update_links=False)\n",
    "general_book.save(general_path)"
   ]
  },
  {
   "cell_type": "markdown",
   "metadata": {},
   "source": []
  },
  {
   "cell_type": "code",
   "execution_count": 16,
   "metadata": {},
   "outputs": [
    {
     "data": {
      "text/plain": [
       "'December'"
      ]
     },
     "execution_count": 16,
     "metadata": {},
     "output_type": "execute_result"
    }
   ],
   "source": [
    "prev_month"
   ]
  },
  {
   "cell_type": "code",
   "execution_count": 17,
   "metadata": {},
   "outputs": [],
   "source": [
    "screen_sheet = general_book.sheets['Screen R4 GL 4 57']\n",
    "\n",
    "screen_sheet.range(\"A2\").clear()\n",
    "\n",
    "screen_sheet.range(\"A2\").value = f\"Accts Receivables {month} 2025\"\n",
    "\n",
    "screen_sheet.range(\"A2\").api.Font.Bold = True"
   ]
  },
  {
   "cell_type": "code",
   "execution_count": 18,
   "metadata": {},
   "outputs": [],
   "source": [
    "row = screen_sheet.range('C4').current_region.last_cell.row"
   ]
  },
  {
   "cell_type": "code",
   "execution_count": 19,
   "metadata": {},
   "outputs": [],
   "source": [
    "screen_sheet.range(f\"{row}:{row}\").api.Insert()\n",
    "screen_sheet.range(f\"A{row}\").value = f\"{month.upper()} 25 ADJ.\"\n",
    "screen_sheet.range(f\"C{row+1}\").formula = f\"=SUM(C4:C{row})\""
   ]
  },
  {
   "cell_type": "code",
   "execution_count": 20,
   "metadata": {},
   "outputs": [
    {
     "name": "stdout",
     "output_type": "stream",
     "text": [
      "Picture 1\n",
      "Picture 2\n",
      "Comment 1\n",
      "The picture you are trying to delete doesn't exist.\n"
     ]
    }
   ],
   "source": [
    "for shape in screen_sheet.shapes:\n",
    "    print(shape.name)\n",
    "\n",
    "try:\n",
    "    screen_sheet.shapes['Picture 5'].delete()\n",
    "    screen_sheet.shapes['Picture 6'].delete()\n",
    "except KeyError:\n",
    "    print(\"The picture you are trying to delete doesn't exist.\")\n",
    "\n"
   ]
  },
  {
   "cell_type": "code",
   "execution_count": 21,
   "metadata": {},
   "outputs": [],
   "source": [
    "amarre_path = os.path.join(r\"C:\\Users\\nil.monreal\\Desktop\\7. Cierre de mes AR\", rf\"1.1- AMARRE AGING Vs. BALANZA AJUSTADO {month.upper()} 2025.xlsx\")\n",
    "amarre_book = xw.Book(amarre_path, update_links=False)\n",
    "trialb_sheet = amarre_book.sheets['TRIAL BALANCE']"
   ]
  },
  {
   "cell_type": "code",
   "execution_count": 22,
   "metadata": {},
   "outputs": [
    {
     "data": {
      "text/plain": [
       "[<Shape 'Picture 4' in <Sheet [1.1- AMARRE AGING Vs. BALANZA AJUSTADO JANUARY 2025.xlsx]TRIAL BALANCE>>,\n",
       " <Shape 'Picture 5' in <Sheet [1.1- AMARRE AGING Vs. BALANZA AJUSTADO JANUARY 2025.xlsx]TRIAL BALANCE>>]"
      ]
     },
     "execution_count": 22,
     "metadata": {},
     "output_type": "execute_result"
    }
   ],
   "source": [
    "shapes_to_use = []\n",
    "\n",
    "# Loop through all the shapes in the sheet and store their names\n",
    "for i, shape in enumerate(trialb_sheet.shapes):\n",
    "    if i > 0:  # Skip the first shape (i.e., index 0)\n",
    "        shapes_to_use.append(shape)\n",
    "\n",
    "shapes_to_use"
   ]
  },
  {
   "cell_type": "code",
   "execution_count": 23,
   "metadata": {},
   "outputs": [],
   "source": [
    "if len(shapes_to_use) >= 2:\n",
    "    shape1 = shapes_to_use[0]  # This is the second shape in the original list\n",
    "    shape2 = shapes_to_use[1]  # This is the third shape in the original list\n",
    "    \n",
    "    # You can now proceed with copying and pasting the shapes\n",
    "    shape1.api.Copy()\n",
    "    screen_sheet.api.Paste()\n",
    "\n",
    "    pasted_shape1 = screen_sheet.shapes[-1]\n",
    "    pasted_shape1.left = screen_sheet.range(\"B61\").left\n",
    "    pasted_shape1.top = screen_sheet.range(\"B61\").top\n",
    "\n",
    "    shape2.api.Copy()\n",
    "    screen_sheet.api.Paste()\n",
    "\n",
    "    pasted_shape2 = screen_sheet.shapes[-1]\n",
    "    pasted_shape2.left = screen_sheet.range(\"G61\").left\n",
    "    pasted_shape2.top = screen_sheet.range(\"G61\").top\n",
    "else:\n",
    "    print(\"Not enough shapes to assign to shape1 and shape2\")"
   ]
  },
  {
   "cell_type": "code",
   "execution_count": 24,
   "metadata": {},
   "outputs": [],
   "source": [
    "#Copy and paste the balance of the 1110\n",
    "balance_1110 = trialb_sheet.range(\"H9\").value\n",
    "screen_sheet.range(\"C4\").value = balance_1110\n"
   ]
  },
  {
   "cell_type": "code",
   "execution_count": 25,
   "metadata": {},
   "outputs": [],
   "source": [
    "resumen_path = os.path.join(r\"C:\\Users\\nil.monreal\\Desktop\\7. Cierre de mes AR\", rf\"3.- RESUMEN AR {month.upper()} 2025.xlsx\")\n",
    "resume_book = xw.Book(resumen_path, update_links=False)\n",
    "resume_sheet = resume_book.sheets['RESUMEN']\n",
    "ar_sheet = resume_book.sheets['ACCOUNTS RECEIVABLE (AR)']\n",
    "\n",
    "source_cell = ar_sheet.range(\"O74\")\n",
    "\n",
    "screen_sheet.range(f\"C{row}\").formula = f\"='C:\\\\Users\\\\nil.monreal\\\\Desktop\\\\7. Cierre de mes AR\\\\[3.- RESUMEN AR JANUARY 2025.xlsx]ACCOUNTS RECEIVABLE (AR)'!{source_cell.address}\"\n",
    "\n",
    "resume_table = resume_sheet.range(\"B18:F26\").value\n",
    "\n",
    "last_row = screen_sheet.range('C' + str(screen_sheet.cells.last_cell.row)).end('up').row\n",
    "last_row = last_row-6\n",
    "\n",
    "screen_sheet.range(f\"A{last_row}\").value = resume_table"
   ]
  },
  {
   "cell_type": "code",
   "execution_count": 26,
   "metadata": {},
   "outputs": [
    {
     "data": {
      "text/plain": [
       "59"
      ]
     },
     "execution_count": 26,
     "metadata": {},
     "output_type": "execute_result"
    }
   ],
   "source": [
    "row_provision = row+5\n",
    "row_provision"
   ]
  },
  {
   "cell_type": "code",
   "execution_count": 27,
   "metadata": {},
   "outputs": [],
   "source": [
    "screen_sheet.range(f\"C{row_provision}\").formula = fr\"=-SUM('C:\\Users\\nil.monreal\\Desktop\\7. Cierre de mes AR\\[3.- RESUMEN AR {month.upper()} 2025.xlsx]TRIAL BALANCE'!$J$9)\""
   ]
  },
  {
   "cell_type": "code",
   "execution_count": 28,
   "metadata": {},
   "outputs": [
    {
     "name": "stdout",
     "output_type": "stream",
     "text": [
      "15097007.510000002\n"
     ]
    }
   ],
   "source": [
    "ar_sheet = general_book.sheets[\"Accounts Receivable\"]\n",
    "embraer_sheet = amarre_book.sheets[\"Embraer\"]\n",
    "\n",
    "# Step 1: Find the last non-empty row in column F\n",
    "last_row = embraer_sheet.range('F' + str(embraer_sheet.cells.last_cell.row)).end('up').row\n",
    "\n",
    "# Step 2: Extract the range from row 4 to the last non-empty row in column F\n",
    "data_range = embraer_sheet.range(f\"A5:Q{last_row}\").value  # Assuming you want columns A to F\n",
    "\n",
    "# Step 3: Convert the range to a pandas DataFrame\n",
    "columns = embraer_sheet.range(\"A4:Q4\").value  # Assuming the headers are in row 3\n",
    "df = pd.DataFrame(data_range, columns=columns)\n",
    "\n",
    "print(df.Total.sum())\n",
    "\n",
    "amarre_book.close()"
   ]
  },
  {
   "cell_type": "code",
   "execution_count": 29,
   "metadata": {},
   "outputs": [],
   "source": [
    "if ar_sheet.api.ProtectContents:\n",
    "    general_book.save()\n",
    "    general_book.close()\n",
    "    remove_excel_protection(general_path,general_path)\n",
    "    general_book = xw.Book(general_path, update_links=False)\n",
    "    screen_sheet = general_book.sheets['Screen R4 GL 4 57']\n",
    "    ar_sheet = general_book.sheets[\"Accounts Receivable\"]\n",
    "else:\n",
    "    pass\n",
    "    "
   ]
  },
  {
   "cell_type": "code",
   "execution_count": 30,
   "metadata": {},
   "outputs": [],
   "source": [
    "row_count = df[\"Tr-Date\"].count()\n",
    "\n",
    "if row_count == 0 :\n",
    "\n",
    "    pass\n",
    "\n",
    "elif row_count > 0:\n",
    "    \n",
    "    last_row = ar_sheet.range('A' + str(ar_sheet.cells.last_cell.row)).end('up').row\n",
    "\n",
    "    ar_sheet.range(f\"A2:H{last_row}\").clear()\n",
    "\n",
    "    if last_row > row_count:\n",
    "\n",
    "        ar_sheet.range(f\"A{row_count+2}:AH{last_row}\").clear()\n",
    "    else:\n",
    "\n",
    "        ar_sheet.range(\"I2:J2\").copy()\n",
    "        ar_sheet.range(f\"I2:J{row_count+1}\").paste()\n",
    "\n",
    "        pass"
   ]
  },
  {
   "cell_type": "code",
   "execution_count": 31,
   "metadata": {},
   "outputs": [],
   "source": [
    "desired_order = [\"CODE\", \"Ent Reference\", \"Vendor Code\", \"Customer name\", \"Entity\", \"Cust.PO\", \"Tr-Date\", \"Due-Date\", \"Currency\", \"Total\", \"Current\", \"01-30\", \"31-60\", \"61-90\", \"91-120\", \"OP\", \"CUENTA\"]\n",
    "\n",
    "# Reorder the DataFrame based on the new column order\n",
    "df = df[desired_order]\n",
    "\n",
    "df.insert(1, 'Trading Partner', '')\n",
    "df['Trading Partner'] = 'EZA1'\n",
    "\n",
    "cleaned_df = df.iloc[:,[0, 1, 2, 6, 7, 8, 9, 10]]\n",
    "\n",
    "cleaned_df\n",
    "\n",
    "ar_sheet.range(\"A2\").value = cleaned_df.values\n",
    "\n",
    "input(\"Place the snips properly and check your values are correct then click enter...\")\n",
    "\n",
    "general_book.save()\n",
    "general_book.close()"
   ]
  },
  {
   "cell_type": "code",
   "execution_count": 32,
   "metadata": {},
   "outputs": [],
   "source": [
    "BJGX_prev_path = os.path.join(r\"C:\\Users\\nil.monreal\\Desktop\\7. Cierre de mes AR\\5.- EZA1 Accounts Receivable Itercompany December 2024\\1. Embraer\", rf\"EZA1 Accounts Receivable Intercompany BJGX {prev_month.upper()} 2024.xlsx\")\n",
    "BJGX_path = os.path.join(r\"C:\\Users\\nil.monreal\\Desktop\\7. Cierre de mes AR\\5.- EZA1 Accounts Receivable Itercompany January 2025\\1. Embraer\", rf\"EZA1 Accounts Receivable Intercompany BJGX {month.upper()} 2025.xlsx\")\n",
    "BJGX_book = xw.Book(BJGX_prev_path, update_links=False)\n",
    "BJGX_df = cleaned_df[cleaned_df['CODE']==\"BJGX\"]\n",
    "BJGX_sheet = BJGX_book.sheets['Accounts Receivable']\n",
    "\n",
    "if BJGX_sheet.api.ProtectContents:\n",
    "    BJGX_book.save(BJGX_path)\n",
    "    BJGX_book.close()\n",
    "    remove_excel_protection(BJGX_path,BJGX_path)\n",
    "    BJGX_book = xw.Book(general_path, update_links=False)\n",
    "    BJGX_sheet = BJGX_book.sheets['Accounts Receivable']\n",
    "else:\n",
    "    pass\n",
    "\n",
    "row_count = BJGX_df[\"Tr-Date\"].count()\n",
    "\n",
    "last_row = BJGX_sheet.range('A' + str(BJGX_sheet.cells.last_cell.row)).end('up').row\n",
    "\n",
    "BJGX_sheet.range(f\"A2:H{last_row+1}\").clear()\n",
    "\n",
    "if row_count == 0 :\n",
    "\n",
    "    pass\n",
    "\n",
    "elif row_count > 0:\n",
    "\n",
    "    BJGX_sheet.range(f\"A2:H{last_row}\").clear()\n",
    "\n",
    "    if last_row > row_count:\n",
    "\n",
    "        BJGX_sheet.range(f\"A{row_count+2}:AH{last_row}\").clear()\n",
    "\n",
    "    else:\n",
    "        \n",
    "        BJGX_sheet.range(\"I2:J2\").copy()\n",
    "        BJGX_sheet.range(f\"I2:J{row_count+1}\").paste()\n",
    "        \n",
    "        pass\n",
    "\n",
    "    BJGX_sheet.range('A2').value = BJGX_df.values\n",
    "\n",
    "BJGX_book.save(BJGX_path)\n",
    "BJGX_book.close()"
   ]
  },
  {
   "cell_type": "code",
   "execution_count": 33,
   "metadata": {},
   "outputs": [],
   "source": [
    "ESL1_prev_path = os.path.join(r\"C:\\Users\\nil.monreal\\Desktop\\7. Cierre de mes AR\\5.- EZA1 Accounts Receivable Itercompany December 2024\\1. Embraer\", rf\"EZA1 Accounts Receivable Intercompany ESL1 {prev_month.upper()} 2024.xlsx\")\n",
    "ESL1_path = os.path.join(r\"C:\\Users\\nil.monreal\\Desktop\\7. Cierre de mes AR\\5.- EZA1 Accounts Receivable Itercompany January 2025\\1. Embraer\", rf\"EZA1 Accounts Receivable Intercompany ESL1 {month.upper()} 2025.xlsx\")\n",
    "ESL1_book = xw.Book(ESL1_prev_path, update_links=False)\n",
    "ESL1_df = cleaned_df[cleaned_df['CODE']==\"ESL1\"]\n",
    "ESL1_sheet = ESL1_book.sheets['Accounts Receivable']\n",
    "\n",
    "if ESL1_sheet.api.ProtectContents:\n",
    "    ESL1_book.save(ESL1_path)\n",
    "    ESL1_book.close()\n",
    "    remove_excel_protection(ESL1_path,ESL1_path)\n",
    "    ESL1_book = xw.Book(general_path, update_links=False)\n",
    "    ESL1_sheet = ESL1_book.sheets['Accounts Receivable']\n",
    "else:\n",
    "    pass\n",
    "\n",
    "row_count = ESL1_df[\"Tr-Date\"].count()\n",
    "\n",
    "last_row = ESL1_sheet.range('A' + str(ESL1_sheet.cells.last_cell.row)).end('up').row\n",
    "\n",
    "ESL1_sheet.range(f\"A2:H{last_row+1}\").clear()\n",
    "\n",
    "if row_count == 0 :\n",
    "\n",
    "    pass\n",
    "\n",
    "elif row_count > 0:\n",
    "\n",
    "    ESL1_sheet.range(f\"A2:H{last_row}\").clear()\n",
    "\n",
    "    if last_row > row_count:\n",
    "\n",
    "        ESL1_sheet.range(f\"A{row_count+2}:AH{last_row}\").clear()\n",
    "\n",
    "    else:\n",
    "        \n",
    "        ESL1_sheet.range(\"I2:J2\").copy()\n",
    "        ESL1_sheet.range(f\"I2:J{row_count+1}\").paste()\n",
    "\n",
    "        pass\n",
    "\n",
    "    ESL1_sheet.range('A2').value = ESL1_df.values\n",
    "\n",
    "ESL1_book.save(ESL1_path)\n",
    "ESL1_book.close()"
   ]
  },
  {
   "cell_type": "code",
   "execution_count": 34,
   "metadata": {},
   "outputs": [],
   "source": [
    "LBG1_prev_path = os.path.join(r\"C:\\Users\\nil.monreal\\Desktop\\7. Cierre de mes AR\\5.- EZA1 Accounts Receivable Itercompany December 2024\\1. Embraer\", rf\"EZA1 Accounts Receivable Intercompany LBG1 {prev_month.upper()} 2024.xlsx\")\n",
    "LBG1_path = os.path.join(r\"C:\\Users\\nil.monreal\\Desktop\\7. Cierre de mes AR\\5.- EZA1 Accounts Receivable Itercompany January 2025\\1. Embraer\", rf\"EZA1 Accounts Receivable Intercompany LBG1 {month.upper()} 2025.xlsx\")\n",
    "LBG1_book = xw.Book(LBG1_prev_path, update_links=False)\n",
    "LBG1_df = cleaned_df[cleaned_df['CODE']==\"LBG1\"]\n",
    "LBG1_sheet = LBG1_book.sheets['Accounts Receivable']\n",
    "\n",
    "if LBG1_sheet.api.ProtectContents:\n",
    "    LBG1_book.save(LBG1_path)\n",
    "    LBG1_book.close()\n",
    "    remove_excel_protection(LBG1_path,LBG1_path)\n",
    "    LBG1_book = xw.Book(general_path, update_links=False)\n",
    "    LBG1_sheet = LBG1_book.sheets['Accounts Receivable']\n",
    "else:\n",
    "    pass\n",
    "\n",
    "row_count = LBG1_df[\"Tr-Date\"].count()\n",
    "\n",
    "last_row = LBG1_sheet.range('A' + str(LBG1_sheet.cells.last_cell.row)).end('up').row\n",
    "\n",
    "LBG1_sheet.range(f\"A2:H{last_row+1}\").clear()\n",
    "\n",
    "if row_count == 0 :\n",
    "\n",
    "    pass\n",
    "\n",
    "elif row_count > 0:\n",
    "\n",
    "    LBG1_sheet.range(f\"A2:H{last_row}\").clear()\n",
    "\n",
    "    if last_row > row_count:\n",
    "\n",
    "        LBG1_sheet.range(f\"A{row_count+2}:AH{last_row}\").clear()\n",
    "\n",
    "    else:\n",
    "        \n",
    "        LBG1_sheet.range(\"I2:J2\").copy()\n",
    "        LBG1_sheet.range(f\"I2:J{row_count+1}\").paste()\n",
    "\n",
    "        pass\n",
    "\n",
    "    LBG1_sheet.range('A2').value = LBG1_df.values\n",
    "\n",
    "LBG1_book.save(LBG1_path)\n",
    "LBG1_book.close()"
   ]
  },
  {
   "cell_type": "code",
   "execution_count": 35,
   "metadata": {},
   "outputs": [],
   "source": [
    "SINX_prev_path = os.path.join(r\"C:\\Users\\nil.monreal\\Desktop\\7. Cierre de mes AR\\5.- EZA1 Accounts Receivable Itercompany December 2024\\1. Embraer\", rf\"EZA1 Accounts Receivable Intercompany SINX {prev_month.upper()} 2024.xlsx\")\n",
    "SINX_path = os.path.join(r\"C:\\Users\\nil.monreal\\Desktop\\7. Cierre de mes AR\\5.- EZA1 Accounts Receivable Itercompany January 2025\\1. Embraer\", rf\"EZA1 Accounts Receivable Intercompany SINX {month.upper()} 2025.xlsx\")\n",
    "SINX_book = xw.Book(SINX_prev_path, update_links=False)\n",
    "SINX_df = cleaned_df[cleaned_df['CODE']==\"SINX\"]\n",
    "SINX_sheet = SINX_book.sheets['Accounts Receivable']\n",
    "\n",
    "if SINX_sheet.api.ProtectContents:\n",
    "    SINX_book.save(SINX_path)\n",
    "    SINX_book.close()\n",
    "    remove_excel_protection(SINX_path,SINX_path)\n",
    "    SINX_book = xw.Book(general_path, update_links=False)\n",
    "    SINX_sheet = SINX_book.sheets['Accounts Receivable']\n",
    "else:\n",
    "    pass\n",
    "\n",
    "row_count = SINX_df[\"Tr-Date\"].count()\n",
    "\n",
    "last_row = SINX_sheet.range('A' + str(SINX_sheet.cells.last_cell.row)).end('up').row\n",
    "\n",
    "SINX_sheet.range(f\"A2:H{last_row+1}\").clear()\n",
    "\n",
    "if row_count == 0 :\n",
    "\n",
    "    pass\n",
    "\n",
    "elif row_count > 0:\n",
    "\n",
    "    SINX_sheet.range(f\"A2:H{last_row}\").clear()\n",
    "\n",
    "    if last_row > row_count:\n",
    "\n",
    "        SINX_sheet.range(f\"A{row_count+2}:AH{last_row}\").clear()\n",
    "\n",
    "    else:\n",
    "        \n",
    "        SINX_sheet.range(\"I2:J2\").copy()\n",
    "        SINX_sheet.range(f\"I2:J{row_count+1}\").paste()\n",
    "\n",
    "        pass\n",
    "\n",
    "    SINX_sheet.range('A2').value = SINX_df.values\n",
    "\n",
    "SINX_book.save(SINX_path)\n",
    "SINX_book.close()"
   ]
  },
  {
   "cell_type": "code",
   "execution_count": 36,
   "metadata": {},
   "outputs": [],
   "source": [
    "SJK1_prev_path = os.path.join(r\"C:\\Users\\nil.monreal\\Desktop\\7. Cierre de mes AR\\5.- EZA1 Accounts Receivable Itercompany December 2024\\1. Embraer\", rf\"EZA1 Accounts Receivable Intercompany SJK1 {prev_month.upper()} 2024.xlsx\")\n",
    "SJK1_path = os.path.join(r\"C:\\Users\\nil.monreal\\Desktop\\7. Cierre de mes AR\\5.- EZA1 Accounts Receivable Itercompany January 2025\\1. Embraer\", rf\"EZA1 Accounts Receivable Intercompany SJK1 {month.upper()} 2025.xlsx\")\n",
    "SJK1_book = xw.Book(SJK1_prev_path, update_links=False)\n",
    "SJK1_df = cleaned_df[cleaned_df['CODE']==\"SJK1\"]\n",
    "SJK1_sheet = SJK1_book.sheets['Accounts Receivable']\n",
    "\n",
    "if SJK1_sheet.api.ProtectContents:\n",
    "    SJK1_book.save(SJK1_path)\n",
    "    SJK1_book.close()\n",
    "    remove_excel_protection(SJK1_path,SJK1_path)\n",
    "    SJK1_book = xw.Book(general_path, update_links=False)\n",
    "    SJK1_sheet = SJK1_book.sheets['Accounts Receivable']\n",
    "else:\n",
    "    pass\n",
    "\n",
    "row_count = SJK1_df[\"Tr-Date\"].count()\n",
    "\n",
    "last_row = SJK1_sheet.range('A' + str(SJK1_sheet.cells.last_cell.row)).end('up').row\n",
    "\n",
    "SJK1_sheet.range(f\"A2:H{last_row+1}\").clear()\n",
    "\n",
    "if row_count == 0 :\n",
    "\n",
    "    pass\n",
    "\n",
    "elif row_count > 0:\n",
    "\n",
    "    SJK1_sheet.range(f\"A2:H{last_row}\").clear()\n",
    "\n",
    "    if last_row > row_count:\n",
    "\n",
    "        SJK1_sheet.range(f\"A{row_count+2}:AH{last_row}\").clear()\n",
    "\n",
    "    else:\n",
    "        \n",
    "        SJK1_sheet.range(\"I2:J2\").copy()\n",
    "        SJK1_sheet.range(f\"I2:J{row_count+1}\").paste()\n",
    "\n",
    "        pass\n",
    "\n",
    "    SJK1_sheet.range('A2').value = SJK1_df.values\n",
    "\n",
    "SJK1_book.save(SJK1_path)\n",
    "SJK1_book.close()"
   ]
  },
  {
   "cell_type": "code",
   "execution_count": 37,
   "metadata": {},
   "outputs": [
    {
     "data": {
      "text/plain": [
       "''"
      ]
     },
     "execution_count": 37,
     "metadata": {},
     "output_type": "execute_result"
    }
   ],
   "source": [
    "input(\"Please verify that the job has been done properly...\")"
   ]
  },
  {
   "cell_type": "code",
   "execution_count": null,
   "metadata": {},
   "outputs": [],
   "source": []
  },
  {
   "cell_type": "code",
   "execution_count": 38,
   "metadata": {},
   "outputs": [],
   "source": [
    "# # Path to the folder where the Excel files are located\n",
    "# folder_path = Path(r'C:\\Users\\nil.monreal\\Desktop\\7. Cierre de mes AR\\5.- EZA1 Accounts Receivable Itercompany January 2025\\1. Embraer')\n",
    "\n",
    "# # Find all Excel files in the folder (both .xlsx and .xls)\n",
    "# files_to_delete = [file for file in folder_path.glob('*.xlsx') if prev_month.upper() in file.stem]\n",
    "\n",
    "\n",
    "# # Iterate over the list and delete each file\n",
    "# for excel_file in files_to_delete:\n",
    "#     try:\n",
    "#         excel_file.unlink()  # This will delete the file\n",
    "#         print(f\"Deleted: {excel_file}\")\n",
    "#     except FileNotFoundError:\n",
    "#         print(f\"File not found: {excel_file}\")\n",
    "#     except PermissionError:\n",
    "#         print(f\"Permission denied: {excel_file}\")"
   ]
  }
 ],
 "metadata": {
  "kernelspec": {
   "display_name": "base",
   "language": "python",
   "name": "python3"
  },
  "language_info": {
   "codemirror_mode": {
    "name": "ipython",
    "version": 3
   },
   "file_extension": ".py",
   "mimetype": "text/x-python",
   "name": "python",
   "nbconvert_exporter": "python",
   "pygments_lexer": "ipython3",
   "version": "3.12.4"
  }
 },
 "nbformat": 4,
 "nbformat_minor": 2
}
