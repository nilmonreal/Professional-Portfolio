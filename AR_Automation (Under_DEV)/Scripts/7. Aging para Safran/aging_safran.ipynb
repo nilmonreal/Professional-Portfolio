{
 "cells": [
  {
   "cell_type": "markdown",
   "metadata": {},
   "source": [
    "AGING para SAFRAN Presentación "
   ]
  },
  {
   "cell_type": "code",
   "execution_count": 3,
   "metadata": {},
   "outputs": [],
   "source": [
    "import xlwings as xw\n",
    "import pandas as pd\n",
    "import datetime\n",
    "import os"
   ]
  },
  {
   "cell_type": "code",
   "execution_count": 4,
   "metadata": {},
   "outputs": [
    {
     "name": "stdout",
     "output_type": "stream",
     "text": [
      "File C:\\Users\\nil.monreal\\Desktop\\7. Cierre de mes AR\\7.- AGING para SAFRAN Presentación NOVEMBER 2024.xlsx opened successfully.\n"
     ]
    }
   ],
   "source": [
    "current_date = datetime.datetime.now()\n",
    "\n",
    "month = current_date.strftime('%B') \n",
    "\n",
    "def get_previous_month(date):\n",
    "    first_day_of_current_month = datetime.date(date.year, date.month, 1)\n",
    "    last_day_of_previous_month = first_day_of_current_month - datetime.timedelta(days=1)\n",
    "    return last_day_of_previous_month.strftime('%B')\n",
    "\n",
    "def get_previous_two_months(date):\n",
    "    first_day_of_current_month = datetime.date(date.year, date.month, 1)\n",
    "    last_day_of_two_months_back = first_day_of_current_month - datetime.timedelta(days=1)\n",
    "    last_day_of_two_months_back = last_day_of_two_months_back.replace(day=1) - datetime.timedelta(days=1)\n",
    "    return last_day_of_two_months_back.strftime('%B')\n",
    "\n",
    "# Get the current date\n",
    "today = datetime.date.today()\n",
    "\n",
    "# Get the first day of the current month\n",
    "first_day_of_current_month = today.replace(day=1)\n",
    "\n",
    "# Get the last day of the previous month\n",
    "last_day_of_previous_month = first_day_of_current_month - datetime.timedelta(days=1)\n",
    "\n",
    "month = get_previous_month(current_date)\n",
    "\n",
    "prev_month = get_previous_two_months(current_date)\n",
    "\n",
    "safran_path =  os.path.join(r\"C:\\Users\\nil.monreal\\Desktop\\7. Cierre de mes AR\", rf\"7.- AGING para SAFRAN Presentación NOVEMBER 2024.xlsx\")\n",
    "\n",
    "try:\n",
    "    safran_book = xw.Book(safran_path, update_links=False)\n",
    "    print(f\"File {safran_path} opened successfully.\")\n",
    "except FileNotFoundError:\n",
    "    print(f\"File not found: {safran_path}\")\n",
    "except Exception as e:\n",
    "    print(f\"An error occurred: {e}\")"
   ]
  },
  {
   "cell_type": "code",
   "execution_count": 5,
   "metadata": {},
   "outputs": [],
   "source": [
    "# Assuming your Excel application is already running and you have a workbook open\n",
    "app = xw.apps.active  # Get the active Excel application\n",
    "\n",
    "# Set calculation mode to manual\n",
    "app.api.Calculation = xw.constants.Calculation.xlCalculationManual"
   ]
  },
  {
   "cell_type": "code",
   "execution_count": 6,
   "metadata": {},
   "outputs": [
    {
     "name": "stdout",
     "output_type": "stream",
     "text": [
      "File C:\\Users\\nil.monreal\\Desktop\\7. Cierre de mes AR\\4.- AR 5 2 AGING REPORT JANUARY AJUSTADO 2025.xlsx opened successfully.\n"
     ]
    }
   ],
   "source": [
    "ar_52_path = os.path.join(r\"C:\\Users\\nil.monreal\\Desktop\\7. Cierre de mes AR\",rf\"4.- AR 5 2 AGING REPORT {month.upper()} AJUSTADO 2025.xlsx\")\n",
    "\n",
    "try:\n",
    "    ar_52_book = xw.Book(ar_52_path, update_links=False)\n",
    "    print(f\"File {ar_52_path} opened successfully.\")\n",
    "\n",
    "except FileNotFoundError:\n",
    "    print(f\"File not found: {ar_52_path}\")\n",
    "\n",
    "except Exception as e:\n",
    "    print(f\"An error occurred: {e}\")\n",
    "\n",
    "    os.system(\"taskkill /f /im excel.exe\")\n",
    "\n",
    "    ar_52_book = xw.Book(ar_52_path, update_links=False)\n",
    "    print(f\"File {ar_52_path} opened successfully.\")"
   ]
  },
  {
   "cell_type": "code",
   "execution_count": 7,
   "metadata": {},
   "outputs": [],
   "source": [
    "resumen_sheet_sf = safran_book.sheets[\"RESUMEN\"]\n",
    "\n",
    "resumen_sheet_sf.range(\"3:16\").insert(\"down\")\n",
    "\n",
    "resumen_sheet_52 = ar_52_book.sheets[\"RESUMEN\"]\n",
    "\n",
    "table = resumen_sheet_52.range(\"A3:J15\").copy()\n",
    "\n",
    "resumen_sheet_sf.range(\"A4\").paste()\n",
    "\n",
    "values = resumen_sheet_52.range(\"C5:I14\").value\n",
    "\n",
    "resumen_sheet_sf.range(\"C6\").value = values\n",
    "\n",
    "resumen_sheet_52.api.Application.CutCopyMode = False\n",
    "\n",
    "ar_52_book.close()"
   ]
  },
  {
   "cell_type": "code",
   "execution_count": 9,
   "metadata": {},
   "outputs": [],
   "source": [
    "overdue_sheet = safran_book.sheets[\"Overdue - EZA\"]\n",
    "\n",
    "values_embraer_flo = [\"=RESUMEN!$E$13/1000\",\n",
    "                      \"=RESUMEN!$F$13/1000\",\n",
    "                      \"=RESUMEN!$G$13/1000\",\n",
    "                      \"=(RESUMEN!$H$13+RESUMEN!$I$13)/1000\"\n",
    "                      ]\n",
    "\n",
    "values_embraer_fra = [\"=RESUMEN!$E$11/1000\",\n",
    "                      \"=RESUMEN!$F$11/1000\",\n",
    "                      \"=RESUMEN!$G$11/1000\",\n",
    "                      \"=(RESUMEN!$H$11+RESUMEN!$I$11)/1000\"\n",
    "                      ]\n",
    "\n",
    "values_embraer_chi = [\"=RESUMEN!$E$12/1000\",\n",
    "                      \"=RESUMEN!$F$12/1000\",\n",
    "                      \"=RESUMEN!$G$12/1000\",\n",
    "                      \"=(RESUMEN!$H$12+RESUMEN!$I$12)/1000\"\n",
    "                      ]\n",
    "\n",
    "values_embraer_sin = [\"=RESUMEN!$E$10/1000\",\n",
    "                      \"=RESUMEN!$F$10/1000\",\n",
    "                      \"=RESUMEN!$G$10/1000\",\n",
    "                      \"=(RESUMEN!$H$10+RESUMEN!$I$10)/1000\"\n",
    "                      ]\n",
    "\n",
    "values_embraer_bra_sp = [\"=(RESUMEN!$E$7+RESUMEN!$E$9)/$W$20\",\n",
    "                         \"=(RESUMEN!$F$7+RESUMEN!$F$9)/$W$20\",\n",
    "                         \"=(RESUMEN!$G$7+RESUMEN!$G$9)/$W$20\",\n",
    "                         \"=(RESUMEN!$H$7+RESUMEN!$H$9+RESUMEN!$I$7+RESUMEN!$I$9)/$W$20\"\n",
    "                         ]\n",
    "\n",
    "values_embraer_bra_rp = [\"=(RESUMEN!$E$6+RESUMEN!$E$8)/$W$20\",\n",
    "                         \"=(RESUMEN!$F$6+RESUMEN!$F$8)/$W$20\",\n",
    "                         \"=(RESUMEN!$G$6+RESUMEN!$G$8)/$W$20\",\n",
    "                         \"=(RESUMEN!$H$6+RESUMEN!$H$8+RESUMEN!$I$6+RESUMEN!$I$8)/$W$20\"\n",
    "                         ]\n",
    "\n",
    "values_safran = [\"=(RESUMEN!$E$14+RESUMEN!$E$15)/$W$20\",\n",
    "                 \"=(RESUMEN!$F$14+RESUMEN!$F$15)/$W$20\",\n",
    "                 \"=(RESUMEN!$G$14+RESUMEN!$G$15)/$W$20\",\n",
    "                 \"=(RESUMEN!$H$14+RESUMEN!$H$15+RESUMEN!$I$14+RESUMEN!$I$15)/$W$20\"\n",
    "                 ]"
   ]
  },
  {
   "cell_type": "code",
   "execution_count": 10,
   "metadata": {},
   "outputs": [],
   "source": [
    "# Lists of values\n",
    "values_list = [\n",
    "    values_embraer_flo,\n",
    "    values_embraer_fra,\n",
    "    values_embraer_chi,\n",
    "    values_embraer_sin,\n",
    "    values_embraer_bra_sp,\n",
    "    values_embraer_bra_rp,\n",
    "    values_safran\n",
    "]\n",
    "\n",
    "cell = 22  # Starting row\n",
    "start_col_index = 17  # Starting column, 'Q' is the 17th column (A=1, B=2, ..., Q=17)\n",
    "\n",
    "# Iterate through each list in values_list\n",
    "for values in values_list:\n",
    "    col_index = start_col_index  # Reset to the starting column for each list\n",
    "\n",
    "    # Iterate over each value in the current list and place them horizontally in the same row\n",
    "    for v in range(4):\n",
    "\n",
    "        overdue_sheet.cells(cell, col_index).formula = values[v]\n",
    "\n",
    "        col_index += 1  # Move to the next column\n",
    "\n",
    "    # After filling 5 columns, move to the next row by adding 22 to the row number\n",
    "    cell += 1"
   ]
  },
  {
   "cell_type": "code",
   "execution_count": 11,
   "metadata": {},
   "outputs": [
    {
     "data": {
      "text/plain": [
       "True"
      ]
     },
     "execution_count": 11,
     "metadata": {},
     "output_type": "execute_result"
    }
   ],
   "source": [
    "grafica_sheet = safran_book.sheets[\"Gráfica\"]\n",
    "\n",
    "last_column = grafica_sheet.range('3:3').end('right').column\n",
    "\n",
    "grafica_sheet.range((1, last_column)).api.EntireColumn.Insert()"
   ]
  },
  {
   "cell_type": "code",
   "execution_count": 12,
   "metadata": {},
   "outputs": [],
   "source": [
    "grafica_sheet.cells(2,last_column).value = last_day_of_previous_month\n",
    "\n",
    "source_range = grafica_sheet.range(grafica_sheet.cells(2, last_column - 1), grafica_sheet.cells(9, last_column - 1))  # CC2 to CC9\n",
    "\n",
    "destination_range = grafica_sheet.range(grafica_sheet.cells(2, last_column), grafica_sheet.cells(9, last_column))  # CD2 to CD9\n",
    "\n",
    "source_range.api.Copy()\n",
    "\n",
    "destination_range.api.PasteSpecial(Paste=-4122)  # -4122 corresponds to xlPasteFormats in Excel\n",
    "\n",
    "grafica_sheet.api.Application.CutCopyMode = False"
   ]
  },
  {
   "cell_type": "code",
   "execution_count": 13,
   "metadata": {},
   "outputs": [],
   "source": [
    "cell = 3  # Start from row 3\n",
    "totals = [\n",
    "    \"=+RESUMEN!D16/Gráfica!CE3\",\n",
    "    \"=+RESUMEN!E16/Gráfica!CE3\",\n",
    "    \"=+RESUMEN!F16/Gráfica!CE3\",\n",
    "    \"=+RESUMEN!G16/Gráfica!CE3\",\n",
    "    \"=+RESUMEN!H16/Gráfica!CE3\",\n",
    "    \"=+RESUMEN!I16/Gráfica!CE3\"\n",
    "]\n",
    "\n",
    "for v in range(6):  # Loop over the 6 formulas in 'totals'\n",
    "    grafica_sheet.cells(cell, last_column).formula = totals[v]\n",
    "    cell += 1  # Move to the next row\n",
    "\n",
    "# Get the address of the starting and ending cells in plain text\n",
    "start_cell = grafica_sheet.cells(3, last_column).address\n",
    "end_cell = grafica_sheet.cells(9, last_column).address\n",
    "\n",
    "# Create a SUM formula using the plain text addresses\n",
    "sum_formula = f\"=SUM({start_cell}:{end_cell})\"\n",
    "\n",
    "grafica_sheet.cells(9, last_column).formula = sum_formula"
   ]
  },
  {
   "cell_type": "code",
   "execution_count": 11,
   "metadata": {},
   "outputs": [
    {
     "data": {
      "text/plain": [
       "''"
      ]
     },
     "execution_count": 11,
     "metadata": {},
     "output_type": "execute_result"
    }
   ],
   "source": [
    "input(\"Update the values on the graph\")\n",
    "# # Define a custom function to convert Excel column letter to a number\n",
    "# def column_letter_to_number(col):\n",
    "#     \"\"\"Convert Excel column letter to a number (e.g., 'A' -> 1, 'B' -> 2, 'AA' -> 27).\"\"\"\n",
    "#     num = 0\n",
    "#     for c in col:\n",
    "#         num = num * 26 + (ord(c.upper()) - ord('A') + 1)\n",
    "#     return num\n",
    "\n",
    "# # Define a custom function to convert a number to Excel column letter\n",
    "# def number_to_column_letter(n):\n",
    "#     \"\"\"Convert a number to Excel column letter (e.g., 1 -> 'A', 27 -> 'AA').\"\"\"\n",
    "#     result = ''\n",
    "#     while n > 0:\n",
    "#         n, remainder = divmod(n - 1, 26)\n",
    "#         result = chr(65 + remainder) + result\n",
    "#     return result\n",
    "\n",
    "# # Define a function to increment Excel columns dynamically\n",
    "# def increment_column(col, shift=1):\n",
    "#     \"\"\"Increment the Excel column by a given shift.\"\"\"\n",
    "#     col_num = column_letter_to_number(col)\n",
    "#     new_col_num = col_num + shift\n",
    "#     return number_to_column_letter(new_col_num)\n",
    "\n",
    "# # Current start and end columns for the X and Y ranges\n",
    "\n",
    "# end_col = \"CC\"\n",
    "\n",
    "# # Shift columns by 1\n",
    "# new_end_col = increment_column(end_col, 1)\n",
    "\n",
    "# current_formula = series.Formula\n",
    "\n",
    "# new_formula = current_formula.replace(end_col, new_end_col)\n",
    "\n",
    "# series.Formula = new_formula"
   ]
  },
  {
   "cell_type": "code",
   "execution_count": 21,
   "metadata": {},
   "outputs": [],
   "source": [
    "new_safran_path = os.path.join(r\"C:\\Users\\nil.monreal\\Desktop\\7. Cierre de mes AR\", rf\"7.- AGING para SAFRAN Presentación {month} 2025.xlsx\")\n",
    "\n",
    "safran_book.save(new_safran_path)\n",
    "safran_book.close()"
   ]
  }
 ],
 "metadata": {
  "kernelspec": {
   "display_name": "base",
   "language": "python",
   "name": "python3"
  },
  "language_info": {
   "codemirror_mode": {
    "name": "ipython",
    "version": 3
   },
   "file_extension": ".py",
   "mimetype": "text/x-python",
   "name": "python",
   "nbconvert_exporter": "python",
   "pygments_lexer": "ipython3",
   "version": "3.12.4"
  }
 },
 "nbformat": 4,
 "nbformat_minor": 2
}
