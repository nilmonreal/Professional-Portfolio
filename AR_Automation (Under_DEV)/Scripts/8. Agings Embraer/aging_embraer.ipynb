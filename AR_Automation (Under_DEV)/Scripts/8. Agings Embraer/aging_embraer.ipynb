{
 "cells": [
  {
   "cell_type": "markdown",
   "metadata": {},
   "source": [
    "**8.- Agings al cierre de mes EMBRAER**"
   ]
  },
  {
   "cell_type": "code",
   "execution_count": 1,
   "metadata": {},
   "outputs": [],
   "source": [
    "import xlwings as xw\n",
    "import pandas as pd\n",
    "import datetime\n",
    "import os"
   ]
  },
  {
   "cell_type": "code",
   "execution_count": 2,
   "metadata": {},
   "outputs": [
    {
     "name": "stdout",
     "output_type": "stream",
     "text": [
      "File not found: C:\\Users\\nil.monreal\\Desktop\\7. Cierre de mes AR\\8.- Agings al cierre de mes EMBRAER\\Aging AR Embraer Brazil SJK1 DECEMBER 2024.xlsx\n"
     ]
    }
   ],
   "source": [
    "current_date = datetime.datetime.now()\n",
    "\n",
    "def get_previous_month(date):\n",
    "    first_day_of_current_month = datetime.date(date.year, date.month, 1)\n",
    "    last_day_of_previous_month = first_day_of_current_month - datetime.timedelta(days=1)\n",
    "    return last_day_of_previous_month.strftime('%B')\n",
    "\n",
    "def get_previous_two_months(date):\n",
    "    first_day_of_current_month = datetime.date(date.year, date.month, 1)\n",
    "    last_day_of_two_months_back = first_day_of_current_month - datetime.timedelta(days=1)\n",
    "    last_day_of_two_months_back = last_day_of_two_months_back.replace(day=1) - datetime.timedelta(days=1)\n",
    "    return last_day_of_two_months_back.strftime('%B')\n",
    "\n",
    "# Get the current date\n",
    "today = datetime.date.today()\n",
    "\n",
    "# Get the first day of the current month\n",
    "first_day_of_current_month = today.replace(day=1)\n",
    "\n",
    "# Get the last day of the previous month\n",
    "last_day_of_previous_month = first_day_of_current_month - datetime.timedelta(days=1)\n",
    "\n",
    "month = get_previous_month(current_date)\n",
    "\n",
    "prev_month = get_previous_two_months(current_date)\n",
    "\n",
    "\n",
    "\n",
    "sjk1_path =  os.path.join(r\"C:\\Users\\nil.monreal\\Desktop\\7. Cierre de mes AR\\8.- Agings al cierre de mes EMBRAER\", rf\"Aging AR Embraer Brazil SJK1 {prev_month.upper()} 2024.xlsx\")\n",
    "\n",
    "try:\n",
    "    sjk1_book = xw.Book(sjk1_path, update_links=False)\n",
    "    print(f\"File {sjk1_path} opened successfully.\")\n",
    "except FileNotFoundError:\n",
    "    print(f\"File not found: {sjk1_path}\")\n",
    "except Exception as e:\n",
    "    print(f\"An error occurred: {e}\")"
   ]
  },
  {
   "cell_type": "code",
   "execution_count": 3,
   "metadata": {},
   "outputs": [
    {
     "name": "stdout",
     "output_type": "stream",
     "text": [
      "File C:\\Users\\nil.monreal\\Desktop\\7. Cierre de mes AR\\4.- AR 5 2 AGING REPORT JANUARY AJUSTADO 2025.xlsx opened successfully.\n"
     ]
    }
   ],
   "source": [
    "ar_52_path = os.path.join(r\"C:\\Users\\nil.monreal\\Desktop\\7. Cierre de mes AR\",rf\"4.- AR 5 2 AGING REPORT {month.upper()} AJUSTADO 2025.xlsx\")\n",
    "\n",
    "try:\n",
    "    ar_52_book = xw.Book(ar_52_path, update_links=False)\n",
    "    print(f\"File {ar_52_path} opened successfully.\")\n",
    "\n",
    "except FileNotFoundError:\n",
    "    print(f\"File not found: {ar_52_path}\")\n",
    "\n",
    "except Exception as e:\n",
    "    print(f\"An error occurred: {e}\")\n",
    "\n",
    "    os.system(\"taskkill /f /im excel.exe\")\n",
    "\n",
    "    ar_52_book = xw.Book(ar_52_path, update_links=False)\n",
    "    print(f\"File {ar_52_path} opened successfully.\")"
   ]
  },
  {
   "cell_type": "code",
   "execution_count": 4,
   "metadata": {},
   "outputs": [],
   "source": [
    "#Assuming your Excel application is already running and you have a workbook open\n",
    "app = xw.apps.active  #Get the active Excel application\n",
    "\n",
    "#Set calculation mode to manual\n",
    "app.api.Calculation = xw.constants.Calculation.xlCalculationManual"
   ]
  },
  {
   "cell_type": "code",
   "execution_count": 5,
   "metadata": {},
   "outputs": [
    {
     "ename": "NameError",
     "evalue": "name 'sjk1_book' is not defined",
     "output_type": "error",
     "traceback": [
      "\u001b[1;31m---------------------------------------------------------------------------\u001b[0m",
      "\u001b[1;31mNameError\u001b[0m                                 Traceback (most recent call last)",
      "Cell \u001b[1;32mIn[5], line 1\u001b[0m\n\u001b[1;32m----> 1\u001b[0m sjk1_sheet \u001b[38;5;241m=\u001b[39m \u001b[43msjk1_book\u001b[49m\u001b[38;5;241m.\u001b[39msheets[\u001b[38;5;124m\"\u001b[39m\u001b[38;5;124mSJK1\u001b[39m\u001b[38;5;124m\"\u001b[39m]\n\u001b[0;32m      3\u001b[0m reg_e1_sheet \u001b[38;5;241m=\u001b[39m ar_52_book\u001b[38;5;241m.\u001b[39msheets[\u001b[38;5;124m\"\u001b[39m\u001b[38;5;124mEMB.PROD.REG.E1\u001b[39m\u001b[38;5;124m\"\u001b[39m]\n\u001b[0;32m      4\u001b[0m spares_e1_sheet \u001b[38;5;241m=\u001b[39m ar_52_book\u001b[38;5;241m.\u001b[39msheets[\u001b[38;5;124m\"\u001b[39m\u001b[38;5;124mEMB.SPARES.E1\u001b[39m\u001b[38;5;124m\"\u001b[39m]\n",
      "\u001b[1;31mNameError\u001b[0m: name 'sjk1_book' is not defined"
     ]
    }
   ],
   "source": [
    "sjk1_sheet = sjk1_book.sheets[\"SJK1\"]\n",
    "\n",
    "reg_e1_sheet = ar_52_book.sheets[\"EMB.PROD.REG.E1\"]\n",
    "spares_e1_sheet = ar_52_book.sheets[\"EMB.SPARES.E1\"]\n",
    "reg_e2_sheet = ar_52_book.sheets[\"EMB.PROD.REG.E2\"]\n",
    "spares_e2_sheet = ar_52_book.sheets[\"EMB.SPARES.E2\"]\n",
    "\n",
    "last_row_r_e1 = reg_e1_sheet.range('F6').end('down').row\n",
    "last_row_s_e1 = spares_e1_sheet.range('F6').end('down').row\n",
    "last_row_r_e2 = reg_e2_sheet.range('F6').end('down').row\n",
    "last_row_s_e2 = spares_e2_sheet.range('F6').end('down').row\n",
    "\n",
    "# Extract the table values from the range\n",
    "table_data_re1 = reg_e1_sheet.range(f\"B6:N{last_row_r_e1}\").value\n",
    "table_data_se1 = spares_e1_sheet.range(f\"B6:N{last_row_s_e1}\").value\n",
    "table_data_re2 = reg_e2_sheet.range(f\"B6:N{last_row_r_e2}\").value\n",
    "table_data_se2 = spares_e2_sheet.range(f\"B6:N{last_row_s_e2}\").value\n",
    "\n",
    "# Convert the range to a DataFrame\n",
    "re1_df = pd.DataFrame(table_data_re1[1:], columns=table_data_re1[0])\n",
    "se1_df = pd.DataFrame(table_data_se1[1:], columns=table_data_se1[0])\n",
    "re2_df = pd.DataFrame(table_data_re2[1:], columns=table_data_re2[0])\n",
    "se2_df = pd.DataFrame(table_data_se2[1:], columns=table_data_se2[0])"
   ]
  },
  {
   "cell_type": "code",
   "execution_count": 28,
   "metadata": {},
   "outputs": [
    {
     "name": "stderr",
     "output_type": "stream",
     "text": [
      "C:\\Users\\nil.monreal\\AppData\\Local\\Temp\\ipykernel_17864\\1403275525.py:4: FutureWarning: The behavior of DataFrame concatenation with empty or all-NA entries is deprecated. In a future version, this will no longer exclude empty or all-NA columns when determining the result dtypes. To retain the old behavior, exclude the relevant entries before the concat operation.\n",
      "  emb_df = pd.concat([re1_df, se1_df, re2_df, se2_df], ignore_index=True)\n"
     ]
    }
   ],
   "source": [
    "sjk1_new_path =  os.path.join(r\"C:\\Users\\nil.monreal\\Desktop\\7. Cierre de mes AR\\8.- Agings al cierre de mes EMBRAER\", rf\"Aging AR Embraer Brazil SJK1 {month.upper()} 2025.xlsx\")\n",
    "\n",
    "# Merge all DataFrames vertically, ignoring the index to reset it\n",
    "emb_df = pd.concat([re1_df, se1_df, re2_df, se2_df], ignore_index=True)\n",
    "\n",
    "row_emb = emb_df.shape[0] + 5\n",
    "\n",
    "sjk1_sheet.range(\"A2\").value = f\"AGING {last_day_of_previous_month}\"\n",
    "\n",
    "sjk1_row = sjk1_sheet.range('A6').end('down').row\n",
    "\n",
    "if row_emb < sjk1_row:\n",
    "\n",
    "    sjk1_sheet.range(f\"A{row_emb+1}:M{sjk1_row}\").delete()\n",
    "\n",
    "    sjk1_sheet.range(\"A6\").value = emb_df.values\n",
    "\n",
    "elif row_emb > sjk1_row:\n",
    "\n",
    "    sjk1_sheet.range(f\"A{sjk1_row+1}:M{row_emb+1}\").insert(\"down\")\n",
    "    sjk1_sheet.range(\"A6\").value = emb_df.values\n",
    "    sjk1_sheet.range(f\"G{row_emb+3}\").formula = f\"=SUM(G7:G{row_emb+1})\"\n",
    "    sjk1_sheet.range(f\"H{row_emb+3}\").formula = f\"=SUM(H7:H{row_emb+1})\"\n",
    "    sjk1_sheet.range(f\"I{row_emb+3}\").formula = f\"=SUM(I7:I{row_emb+1})\"\n",
    "    sjk1_sheet.range(f\"J{row_emb+3}\").formula = f\"=SUM(J7:J{row_emb+1})\"\n",
    "    sjk1_sheet.range(f\"K{row_emb+3}\").formula = f\"=SUM(K7:K{row_emb+1})\"\n",
    "    sjk1_sheet.range(f\"L{row_emb+3}\").formula = f\"=SUM(L7:L{row_emb+1})\"\n",
    "    sjk1_sheet.range(f\"M{row_emb+3}\").formula = f\"=SUM(M7:M{row_emb+1})\"\n",
    "\n",
    "sjk1_book.app.calculate() "
   ]
  },
  {
   "cell_type": "code",
   "execution_count": 29,
   "metadata": {},
   "outputs": [
    {
     "ename": "ValueError",
     "evalue": "The value in G1616 is None. Please check your data.",
     "output_type": "error",
     "traceback": [
      "\u001b[1;31m---------------------------------------------------------------------------\u001b[0m",
      "\u001b[1;31mValueError\u001b[0m                                Traceback (most recent call last)",
      "Cell \u001b[1;32mIn[29], line 13\u001b[0m\n\u001b[0;32m     11\u001b[0m \u001b[38;5;66;03m# Ensure total_emb is not None\u001b[39;00m\n\u001b[0;32m     12\u001b[0m \u001b[38;5;28;01mif\u001b[39;00m total_emb \u001b[38;5;129;01mis\u001b[39;00m \u001b[38;5;28;01mNone\u001b[39;00m:\n\u001b[1;32m---> 13\u001b[0m     \u001b[38;5;28;01mraise\u001b[39;00m \u001b[38;5;167;01mValueError\u001b[39;00m(\u001b[38;5;124mf\u001b[39m\u001b[38;5;124m\"\u001b[39m\u001b[38;5;124mThe value in G\u001b[39m\u001b[38;5;132;01m{\u001b[39;00mrow_emb\u001b[38;5;241m+\u001b[39m\u001b[38;5;241m2\u001b[39m\u001b[38;5;132;01m}\u001b[39;00m\u001b[38;5;124m is None. Please check your data.\u001b[39m\u001b[38;5;124m\"\u001b[39m)\n\u001b[0;32m     15\u001b[0m \u001b[38;5;66;03m# Perform the comparison\u001b[39;00m\n\u001b[0;32m     16\u001b[0m \u001b[38;5;28;01mif\u001b[39;00m \u001b[38;5;28mabs\u001b[39m(\u001b[38;5;28mfloat\u001b[39m(total_sum) \u001b[38;5;241m-\u001b[39m total_emb) \u001b[38;5;241m<\u001b[39m\u001b[38;5;241m=\u001b[39m \u001b[38;5;241m5\u001b[39m:\n",
      "\u001b[1;31mValueError\u001b[0m: The value in G1616 is None. Please check your data."
     ]
    }
   ],
   "source": [
    "# Check the values in RESUMEN sheet\n",
    "resume_sheet = ar_52_book.sheets[\"RESUMEN\"]\n",
    "values = resume_sheet.range(\"C5:C8\").value\n",
    "\n",
    "# Sum the values\n",
    "total_sum = sum(values)\n",
    "\n",
    "# Get the embedded value from sjk1_sheet\n",
    "total_emb = sjk1_sheet.range(f\"G{row_emb+3}\").value\n",
    "\n",
    "# Ensure total_emb is not None\n",
    "if total_emb is None:\n",
    "    raise ValueError(f\"The value in G{row_emb+2} is None. Please check your data.\")\n",
    "\n",
    "# Perform the comparison\n",
    "if abs(float(total_sum) - total_emb) <= 5:\n",
    "    print(\"Ole tu polla ampare\")\n",
    "    sjk1_book.save(sjk1_new_path)\n",
    "    sjk1_book.close()\n",
    "else:\n",
    "    print(f\"You're out by: {float(total_sum) - total_emb}\")"
   ]
  },
  {
   "cell_type": "code",
   "execution_count": 31,
   "metadata": {},
   "outputs": [
    {
     "data": {
      "text/plain": [
       "Decimal('12351361.26')"
      ]
     },
     "execution_count": 31,
     "metadata": {},
     "output_type": "execute_result"
    }
   ],
   "source": [
    "total_sum"
   ]
  },
  {
   "cell_type": "code",
   "execution_count": 32,
   "metadata": {},
   "outputs": [
    {
     "name": "stdout",
     "output_type": "stream",
     "text": [
      "File C:\\Users\\nil.monreal\\Desktop\\7. Cierre de mes AR\\8.- Agings al cierre de mes EMBRAER\\Aging AR Embraer China BJGX DECEMBER 2024.xlsx opened successfully.\n"
     ]
    }
   ],
   "source": [
    "bjgx_path =  os.path.join(r\"C:\\Users\\nil.monreal\\Desktop\\7. Cierre de mes AR\\8.- Agings al cierre de mes EMBRAER\", rf\"Aging AR Embraer China BJGX {prev_month.upper()} 2024.xlsx\")\n",
    "\n",
    "try:\n",
    "    bjgx_book = xw.Book(bjgx_path, update_links=False)\n",
    "    print(f\"File {bjgx_path} opened successfully.\")\n",
    "except FileNotFoundError:\n",
    "    print(f\"File not found: {bjgx_path}\")\n",
    "except Exception as e:\n",
    "    print(f\"An error occurred: {e}\")"
   ]
  },
  {
   "cell_type": "code",
   "execution_count": 33,
   "metadata": {},
   "outputs": [],
   "source": [
    "bjgx_new_path =  os.path.join(r\"C:\\Users\\nil.monreal\\Desktop\\7. Cierre de mes AR\\8.- Agings al cierre de mes EMBRAER\", rf\"Aging AR Embraer China BJGX {month.upper()} 2025.xlsx\")\n",
    "\n",
    "bjgx_sheet = bjgx_book.sheets[\"BJGX\"]\n",
    "\n",
    "china_sheet = ar_52_book.sheets[\"CHINA\"]\n",
    "\n",
    "last_row_china = china_sheet.range('F6').end('down').row\n",
    "\n",
    "table_data_china = china_sheet.range(f\"B6:N{last_row_china}\").value\n",
    "\n",
    "china_df = pd.DataFrame(table_data_china[1:], columns=table_data_china[0])\n",
    "\n",
    "row_china = china_df.shape[0] + 5\n",
    "\n",
    "if pd.isna(china_df['Tr-Date'].iloc[0]):\n",
    "    bjgx_book.save(bjgx_new_path)\n",
    "    bjgx_book.close()\n",
    "    pass\n",
    "\n",
    "else:\n",
    "\n",
    "    china_sheet.range(\"A2\").value = f\"AGING {last_day_of_previous_month}\"\n",
    "\n",
    "    bjgx_row = bjgx_sheet.range('A6').end('down').row\n",
    "\n",
    "    if row_china < bjgx_row:\n",
    "\n",
    "        bjgx_sheet.range(f\"A{row_china+1}:M{bjgx_row}\").delete()\n",
    "\n",
    "        bjgx_sheet.range(\"A6\").value = china_df.values\n",
    "\n",
    "    elif row_china > bjgx_row:\n",
    "\n",
    "        bjgx_sheet.range(f\"A{bjgx_row+1}:M{row_china+1}\").insert(\"down\")\n",
    "        bjgx_sheet.range(\"A6\").value = china_df.values\n",
    "        bjgx_sheet.range(f\"G{row_china+3}\").formula = f\"=SUM(G7:G{row_china+1})\"\n",
    "        bjgx_sheet.range(f\"H{row_china+3}\").formula = f\"=SUM(H7:H{row_china+1})\"\n",
    "        bjgx_sheet.range(f\"I{row_china+3}\").formula = f\"=SUM(I7:I{row_china+1})\"\n",
    "        bjgx_sheet.range(f\"J{row_china+3}\").formula = f\"=SUM(J7:J{row_china+1})\"\n",
    "        bjgx_sheet.range(f\"K{row_china+3}\").formula = f\"=SUM(K7:K{row_china+1})\"\n",
    "        bjgx_sheet.range(f\"L{row_china+3}\").formula = f\"=SUM(L7:L{row_china+1})\"\n",
    "        bjgx_sheet.range(f\"M{row_china+3}\").formula = f\"=SUM(M7:M{row_china+1})\"\n",
    "\n",
    "    bjgx_book.app.calculate() \n",
    "    \n",
    "    #Check \n",
    "\n",
    "    values = resume_sheet.range(\"C11\").value\n",
    "\n",
    "    total_china = bjgx_sheet.range(f\"G{row_china+2}\").value\n",
    "\n",
    "    if abs(float(values) - total_china) <= 5:\n",
    "        print(\"Ole tu polla ampare\")\n",
    "        bjgx_book.save(bjgx_new_path)\n",
    "        bjgx_book.close()\n",
    "    else:\n",
    "        print(f\"You're out by: {float(values)-total_china}\")\n",
    "\n"
   ]
  },
  {
   "cell_type": "code",
   "execution_count": 34,
   "metadata": {},
   "outputs": [
    {
     "name": "stdout",
     "output_type": "stream",
     "text": [
      "File C:\\Users\\nil.monreal\\Desktop\\7. Cierre de mes AR\\8.- Agings al cierre de mes EMBRAER\\Aging AR Embraer Florida ESL1 DECEMBER 2024.xlsx opened successfully.\n"
     ]
    }
   ],
   "source": [
    "esl1_path =  os.path.join(r\"C:\\Users\\nil.monreal\\Desktop\\7. Cierre de mes AR\\8.- Agings al cierre de mes EMBRAER\", rf\"Aging AR Embraer Florida ESL1 {prev_month.upper()} 2024.xlsx\")\n",
    "\n",
    "try:\n",
    "    esl1_book = xw.Book(esl1_path, update_links=False)\n",
    "    print(f\"File {esl1_path} opened successfully.\")\n",
    "except FileNotFoundError:\n",
    "    print(f\"File not found: {esl1_path}\")\n",
    "except Exception as e:\n",
    "    print(f\"An error occurred: {e}\")"
   ]
  },
  {
   "cell_type": "code",
   "execution_count": 36,
   "metadata": {},
   "outputs": [
    {
     "ename": "TypeError",
     "evalue": "float() argument must be a string or a real number, not 'NoneType'",
     "output_type": "error",
     "traceback": [
      "\u001b[1;31m---------------------------------------------------------------------------\u001b[0m",
      "\u001b[1;31mTypeError\u001b[0m                                 Traceback (most recent call last)",
      "Cell \u001b[1;32mIn[36], line 56\u001b[0m\n\u001b[0;32m     52\u001b[0m values \u001b[38;5;241m=\u001b[39m resume_sheet\u001b[38;5;241m.\u001b[39mrange(\u001b[38;5;124m\"\u001b[39m\u001b[38;5;124mC12\u001b[39m\u001b[38;5;124m\"\u001b[39m)\u001b[38;5;241m.\u001b[39mvalue\n\u001b[0;32m     54\u001b[0m total_florida \u001b[38;5;241m=\u001b[39m esl1_sheet\u001b[38;5;241m.\u001b[39mrange(\u001b[38;5;124mf\u001b[39m\u001b[38;5;124m\"\u001b[39m\u001b[38;5;124mG\u001b[39m\u001b[38;5;132;01m{\u001b[39;00mrow_florida\u001b[38;5;241m+\u001b[39m\u001b[38;5;241m3\u001b[39m\u001b[38;5;132;01m}\u001b[39;00m\u001b[38;5;124m\"\u001b[39m)\u001b[38;5;241m.\u001b[39mvalue\n\u001b[1;32m---> 56\u001b[0m \u001b[38;5;28;01mif\u001b[39;00m \u001b[38;5;28mfloat\u001b[39m(values) \u001b[38;5;241m-\u001b[39m \u001b[38;5;28;43mfloat\u001b[39;49m\u001b[43m(\u001b[49m\u001b[43mtotal_florida\u001b[49m\u001b[43m)\u001b[49m \u001b[38;5;241m<\u001b[39m\u001b[38;5;241m=\u001b[39m \u001b[38;5;241m5\u001b[39m:\n\u001b[0;32m     57\u001b[0m     \u001b[38;5;28mprint\u001b[39m(\u001b[38;5;124m\"\u001b[39m\u001b[38;5;124mOle tu polla ampare\u001b[39m\u001b[38;5;124m\"\u001b[39m)\n\u001b[0;32m     58\u001b[0m     esl1_book\u001b[38;5;241m.\u001b[39msave(esl1_new_path)\n",
      "\u001b[1;31mTypeError\u001b[0m: float() argument must be a string or a real number, not 'NoneType'"
     ]
    }
   ],
   "source": [
    "esl1_new_path =  os.path.join(r\"C:\\Users\\nil.monreal\\Desktop\\7. Cierre de mes AR\\8.- Agings al cierre de mes EMBRAER\", rf\"Aging AR Embraer Florida ESL1 {month.upper()} 2025.xlsx\")\n",
    "\n",
    "esl1_sheet = esl1_book.sheets[\"FLORIDA\"]\n",
    "\n",
    "florida_sheet = ar_52_book.sheets[\"FLORIDA\"]\n",
    "\n",
    "last_row_florida = florida_sheet.range('F6').end('down').row\n",
    "\n",
    "table_data_florida = florida_sheet.range(f\"B6:N{last_row_florida}\").value\n",
    "\n",
    "florida_df = pd.DataFrame(table_data_florida[1:], columns=table_data_florida[0])\n",
    "\n",
    "row_florida = florida_df.shape[0] + 5\n",
    "\n",
    "florida_df\n",
    "\n",
    "if pd.isna(florida_df['Tr-Date'].iloc[0]):\n",
    "    esl1_book.save(esl1_new_path)\n",
    "    esl1_book.close()\n",
    "    pass\n",
    "\n",
    "else:\n",
    "\n",
    "    florida_sheet.range(\"A2\").value = f\"AGING {last_day_of_previous_month}\"\n",
    "\n",
    "    esl1_row = esl1_sheet.range('A6').end('down').row\n",
    "\n",
    "    esl1_row\n",
    "\n",
    "    if row_florida < esl1_row:\n",
    "\n",
    "        esl1_sheet.range(f\"A{row_florida+1}:M{esl1_row}\").delete()\n",
    "\n",
    "        esl1_sheet.range(\"A6\").value = florida_df.values\n",
    "\n",
    "    elif row_florida > esl1_row:\n",
    "\n",
    "        esl1_sheet.range(f\"A{esl1_row+1}:M{row_florida+1}\").insert(\"down\")\n",
    "        esl1_sheet.range(\"A6\").value = florida_df.values\n",
    "        esl1_sheet.range(f\"G{row_florida+3}\").formula = f\"=SUM(G6:G{row_florida+1})\"\n",
    "        esl1_sheet.range(f\"H{row_florida+3}\").formula = f\"=SUM(H6:H{row_florida+1})\"\n",
    "        esl1_sheet.range(f\"I{row_florida+3}\").formula = f\"=SUM(I6:I{row_florida+1})\"\n",
    "        esl1_sheet.range(f\"J{row_florida+3}\").formula = f\"=SUM(J6:J{row_florida+1})\"\n",
    "        esl1_sheet.range(f\"K{row_florida+3}\").formula = f\"=SUM(K6:K{row_florida+1})\"\n",
    "        esl1_sheet.range(f\"L{row_florida+3}\").formula = f\"=SUM(L6:L{row_florida+1})\"\n",
    "        esl1_sheet.range(f\"M{row_florida+3}\").formula = f\"=SUM(M6:M{row_florida+1})\"\n",
    "\n",
    "    esl1_book.app.calculate() \n",
    "    \n",
    "    #Check \n",
    "\n",
    "    values = resume_sheet.range(\"C12\").value\n",
    "\n",
    "    total_florida = esl1_sheet.range(f\"G{row_florida+3}\").value\n",
    "\n",
    "    if float(values) - float(total_florida) <= 5:\n",
    "        print(\"Ole tu polla ampare\")\n",
    "        esl1_book.save(esl1_new_path)\n",
    "        esl1_book.close()\n",
    "    else:\n",
    "        print(f\"You're out by: {float(values)-float(total_florida)}\")\n",
    "\n"
   ]
  },
  {
   "cell_type": "code",
   "execution_count": 37,
   "metadata": {},
   "outputs": [
    {
     "data": {
      "text/plain": [
       "Decimal('1931229.38')"
      ]
     },
     "execution_count": 37,
     "metadata": {},
     "output_type": "execute_result"
    }
   ],
   "source": [
    "values"
   ]
  },
  {
   "cell_type": "code",
   "execution_count": 38,
   "metadata": {},
   "outputs": [
    {
     "name": "stdout",
     "output_type": "stream",
     "text": [
      "File C:\\Users\\nil.monreal\\Desktop\\7. Cierre de mes AR\\8.- Agings al cierre de mes EMBRAER\\Aging AR Embraer France LBG1 DECEMBER 2024.xlsx opened successfully.\n"
     ]
    }
   ],
   "source": [
    "lbg1_path =  os.path.join(r\"C:\\Users\\nil.monreal\\Desktop\\7. Cierre de mes AR\\8.- Agings al cierre de mes EMBRAER\", rf\"Aging AR Embraer France LBG1 {prev_month.upper()} 2024.xlsx\")\n",
    "\n",
    "try:\n",
    "    lbg1_book = xw.Book(lbg1_path, update_links=False)\n",
    "    print(f\"File {lbg1_path} opened successfully.\")\n",
    "except FileNotFoundError:\n",
    "    print(f\"File not found: {lbg1_path}\")\n",
    "except Exception as e:\n",
    "    print(f\"An error occurred: {e}\")"
   ]
  },
  {
   "cell_type": "code",
   "execution_count": 39,
   "metadata": {},
   "outputs": [
    {
     "ename": "TypeError",
     "evalue": "float() argument must be a string or a real number, not 'NoneType'",
     "output_type": "error",
     "traceback": [
      "\u001b[1;31m---------------------------------------------------------------------------\u001b[0m",
      "\u001b[1;31mTypeError\u001b[0m                                 Traceback (most recent call last)",
      "Cell \u001b[1;32mIn[39], line 55\u001b[0m\n\u001b[0;32m     51\u001b[0m values \u001b[38;5;241m=\u001b[39m resume_sheet\u001b[38;5;241m.\u001b[39mrange(\u001b[38;5;124m\"\u001b[39m\u001b[38;5;124mC10\u001b[39m\u001b[38;5;124m\"\u001b[39m)\u001b[38;5;241m.\u001b[39mvalue\n\u001b[0;32m     53\u001b[0m total_france \u001b[38;5;241m=\u001b[39m lbg1_sheet\u001b[38;5;241m.\u001b[39mrange(\u001b[38;5;124mf\u001b[39m\u001b[38;5;124m\"\u001b[39m\u001b[38;5;124mG\u001b[39m\u001b[38;5;132;01m{\u001b[39;00mrow_france\u001b[38;5;241m+\u001b[39m\u001b[38;5;241m3\u001b[39m\u001b[38;5;132;01m}\u001b[39;00m\u001b[38;5;124m\"\u001b[39m)\u001b[38;5;241m.\u001b[39mvalue\n\u001b[1;32m---> 55\u001b[0m \u001b[38;5;28;01mif\u001b[39;00m \u001b[38;5;28mfloat\u001b[39m(values) \u001b[38;5;241m-\u001b[39m \u001b[38;5;28;43mfloat\u001b[39;49m\u001b[43m(\u001b[49m\u001b[43mtotal_france\u001b[49m\u001b[43m)\u001b[49m \u001b[38;5;241m<\u001b[39m\u001b[38;5;241m=\u001b[39m \u001b[38;5;241m5\u001b[39m:\n\u001b[0;32m     56\u001b[0m     \u001b[38;5;28mprint\u001b[39m(\u001b[38;5;124m\"\u001b[39m\u001b[38;5;124mOle tu polla ampare\u001b[39m\u001b[38;5;124m\"\u001b[39m)\n\u001b[0;32m     57\u001b[0m     lbg1_book\u001b[38;5;241m.\u001b[39msave(lbg1_new_path)\n",
      "\u001b[1;31mTypeError\u001b[0m: float() argument must be a string or a real number, not 'NoneType'"
     ]
    }
   ],
   "source": [
    "lbg1_new_path =  os.path.join(r\"C:\\Users\\nil.monreal\\Desktop\\7. Cierre de mes AR\\8.- Agings al cierre de mes EMBRAER\", rf\"Aging AR Embraer France LBG1 {month.upper()} 2025.xlsx\")\n",
    "\n",
    "lbg1_sheet = lbg1_book.sheets[\"EMB FRANCE\"]\n",
    "\n",
    "france_sheet = ar_52_book.sheets[\"EMB.FRANCIA\"]\n",
    "\n",
    "last_row_france = france_sheet.range('F6').end('down').row\n",
    "\n",
    "table_data_france = france_sheet.range(f\"B6:N{last_row_france}\").value\n",
    "\n",
    "france_df = pd.DataFrame(table_data_france[1:], columns=table_data_france[0])\n",
    "\n",
    "row_france = france_df.shape[0] + 5\n",
    "\n",
    "france_df\n",
    "\n",
    "if pd.isna(france_df['Tr-Date'].iloc[0]):\n",
    "    lbg1_book.save(lbg1_new_path)\n",
    "    lbg1_book.close()\n",
    "    pass\n",
    "\n",
    "else:\n",
    "\n",
    "    france_sheet.range(\"A2\").value = f\"AGING {last_day_of_previous_month}\"\n",
    "\n",
    "    esl1_row = lbg1_sheet.range('A6').end('down').row\n",
    "\n",
    "    esl1_row\n",
    "\n",
    "    if row_france < esl1_row:\n",
    "\n",
    "        lbg1_sheet.range(f\"A{row_france+1}:M{esl1_row}\").delete()\n",
    "\n",
    "        lbg1_sheet.range(\"A6\").value = france_df.values\n",
    "\n",
    "    elif row_france > esl1_row:\n",
    "\n",
    "        lbg1_sheet.range(f\"A{esl1_row+1}:M{row_france+1}\").insert(\"down\")\n",
    "        lbg1_sheet.range(\"A6\").value = france_df.values\n",
    "        lbg1_sheet.range(f\"G{row_france+3}\").formula = f\"=SUM(G6:G{row_france+1})\"\n",
    "        lbg1_sheet.range(f\"H{row_france+3}\").formula = f\"=SUM(H6:H{row_france+1})\"\n",
    "        lbg1_sheet.range(f\"I{row_france+3}\").formula = f\"=SUM(I6:I{row_france+1})\"\n",
    "        lbg1_sheet.range(f\"J{row_france+3}\").formula = f\"=SUM(J6:J{row_france+1})\"\n",
    "        lbg1_sheet.range(f\"K{row_france+3}\").formula = f\"=SUM(K6:K{row_france+1})\"\n",
    "        lbg1_sheet.range(f\"L{row_france+3}\").formula = f\"=SUM(L6:L{row_france+1})\"\n",
    "        lbg1_sheet.range(f\"M{row_france+3}\").formula = f\"=SUM(M6:M{row_france+1})\"\n",
    "\n",
    "    lbg1_book.app.calculate() \n",
    "    \n",
    "    #Check \n",
    "    values = resume_sheet.range(\"C10\").value\n",
    "\n",
    "    total_france = lbg1_sheet.range(f\"G{row_france+3}\").value\n",
    "\n",
    "    if float(values) - float(total_france) <= 5:\n",
    "        print(\"Ole tu polla ampare\")\n",
    "        lbg1_book.save(lbg1_new_path)\n",
    "        lbg1_book.close()\n",
    "    else:\n",
    "        print(f\"You're out by: {float(values)-float(total_france)}\")"
   ]
  },
  {
   "cell_type": "code",
   "execution_count": 42,
   "metadata": {},
   "outputs": [
    {
     "data": {
      "text/plain": [
       "438"
      ]
     },
     "execution_count": 42,
     "metadata": {},
     "output_type": "execute_result"
    }
   ],
   "source": [
    "row_france"
   ]
  },
  {
   "cell_type": "code",
   "execution_count": 43,
   "metadata": {},
   "outputs": [
    {
     "name": "stdout",
     "output_type": "stream",
     "text": [
      "File C:\\Users\\nil.monreal\\Desktop\\7. Cierre de mes AR\\8.- Agings al cierre de mes EMBRAER\\Aging AR Embraer Singapore SINX DECEMBER 2024.xlsx opened successfully.\n"
     ]
    }
   ],
   "source": [
    "sinx_path =  os.path.join(r\"C:\\Users\\nil.monreal\\Desktop\\7. Cierre de mes AR\\8.- Agings al cierre de mes EMBRAER\", rf\"Aging AR Embraer Singapore SINX {prev_month.upper()} 2024.xlsx\")\n",
    "\n",
    "try:\n",
    "    sinx_book = xw.Book(sinx_path, update_links=False)\n",
    "    print(f\"File {sinx_path} opened successfully.\")\n",
    "except FileNotFoundError:\n",
    "    print(f\"File not found: {sinx_path}\")\n",
    "except Exception as e:\n",
    "    print(f\"An error occurred: {e}\")"
   ]
  },
  {
   "cell_type": "code",
   "execution_count": 44,
   "metadata": {},
   "outputs": [
    {
     "name": "stdout",
     "output_type": "stream",
     "text": [
      "Ole tu polla ampare\n"
     ]
    }
   ],
   "source": [
    "sinx_new_path =  os.path.join(r\"C:\\Users\\nil.monreal\\Desktop\\7. Cierre de mes AR\\8.- Agings al cierre de mes EMBRAER\", rf\"Aging AR Embraer Singapore SINX {month.upper()} 2025.xlsx\")\n",
    "\n",
    "sinx_sheet = sinx_book.sheets[\"AR AGING - SINX\"]\n",
    "\n",
    "singapur_sheet = ar_52_book.sheets[\"SINGAPORE\"]\n",
    "\n",
    "last_row_singapur = singapur_sheet.range('F6').end('down').row\n",
    "\n",
    "table_data_singapur = singapur_sheet.range(f\"B6:N{last_row_singapur}\").value\n",
    "\n",
    "singapur_df = pd.DataFrame(table_data_singapur[1:], columns=table_data_singapur[0])\n",
    "\n",
    "row_singapur = singapur_df.shape[0] + 5\n",
    "\n",
    "singapur_df\n",
    "\n",
    "if pd.isna(singapur_df['Tr-Date'].iloc[0]):\n",
    "    sinx_book.save(sinx_new_path)\n",
    "    sinx_book.close()\n",
    "    pass\n",
    "\n",
    "else:\n",
    "\n",
    "    singapur_sheet.range(\"A2\").value = f\"AGING {last_day_of_previous_month}\"\n",
    "\n",
    "    sinx_row = sinx_sheet.range('A6').end('down').row\n",
    "\n",
    "    if row_singapur < sinx_row:\n",
    "\n",
    "        sinx_sheet.range(f\"A{row_singapur+1}:M{sinx_row}\").delete()\n",
    "\n",
    "        sinx_sheet.range(\"A6\").value = singapur_df.values\n",
    "\n",
    "    elif row_singapur > sinx_row:\n",
    "\n",
    "        sinx_sheet.range(f\"A{sinx_row+1}:M{row_singapur+1}\").insert(\"down\")\n",
    "        sinx_sheet.range(\"A6\").value = singapur_df.values\n",
    "        sinx_sheet.range(f\"G{row_singapur+3}\").formula = f\"=SUM(G6:G{row_singapur+1})\"\n",
    "        sinx_sheet.range(f\"H{row_singapur+3}\").formula = f\"=SUM(H6:H{row_singapur+1})\"\n",
    "        sinx_sheet.range(f\"I{row_singapur+3}\").formula = f\"=SUM(I6:I{row_singapur+1})\"\n",
    "        sinx_sheet.range(f\"J{row_singapur+3}\").formula = f\"=SUM(J6:J{row_singapur+1})\"\n",
    "        sinx_sheet.range(f\"K{row_singapur+3}\").formula = f\"=SUM(K6:K{row_singapur+1})\"\n",
    "        sinx_sheet.range(f\"L{row_singapur+3}\").formula = f\"=SUM(L6:L{row_singapur+1})\"\n",
    "        sinx_sheet.range(f\"M{row_singapur+3}\").formula = f\"=SUM(M6:M{row_singapur+1})\"\n",
    "\n",
    "    sinx_book.app.calculate() \n",
    "    \n",
    "    #Check \n",
    "    values = resume_sheet.range(\"C9\").value\n",
    "\n",
    "    total_singapur = sinx_sheet.range(f\"G{row_singapur+2}\").value\n",
    "\n",
    "    if float(values) - float(total_singapur) <= 5:\n",
    "        print(\"Ole tu polla ampare\")\n",
    "        sinx_book.save(sinx_new_path)\n",
    "        sinx_book.close()\n",
    "    else:\n",
    "        print(f\"You're out by: {float(values)-float(total_singapur)}\")"
   ]
  },
  {
   "cell_type": "code",
   "execution_count": 358,
   "metadata": {},
   "outputs": [
    {
     "name": "stdout",
     "output_type": "stream",
     "text": [
      "Report finished! :)\n"
     ]
    }
   ],
   "source": [
    "ar_52_book.close()\n",
    "print(\"Report finished! :)\")"
   ]
  }
 ],
 "metadata": {
  "kernelspec": {
   "display_name": "base",
   "language": "python",
   "name": "python3"
  },
  "language_info": {
   "codemirror_mode": {
    "name": "ipython",
    "version": 3
   },
   "file_extension": ".py",
   "mimetype": "text/x-python",
   "name": "python",
   "nbconvert_exporter": "python",
   "pygments_lexer": "ipython3",
   "version": "3.12.4"
  }
 },
 "nbformat": 4,
 "nbformat_minor": 2
}
